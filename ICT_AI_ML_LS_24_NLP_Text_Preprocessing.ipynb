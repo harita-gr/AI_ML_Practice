{
  "nbformat": 4,
  "nbformat_minor": 0,
  "metadata": {
    "colab": {
      "provenance": [],
      "authorship_tag": "ABX9TyNoGxHZw5uI0+mx4jPRPrig",
      "include_colab_link": true
    },
    "kernelspec": {
      "name": "python3",
      "display_name": "Python 3"
    },
    "language_info": {
      "name": "python"
    }
  },
  "cells": [
    {
      "cell_type": "markdown",
      "metadata": {
        "id": "view-in-github",
        "colab_type": "text"
      },
      "source": [
        "<a href=\"https://colab.research.google.com/github/harita-gr/AI_ML_Practice/blob/main/ICT_AI_ML_LS_24_NLP_Text_Preprocessing.ipynb\" target=\"_parent\"><img src=\"https://colab.research.google.com/assets/colab-badge.svg\" alt=\"Open In Colab\"/></a>"
      ]
    },
    {
      "cell_type": "code",
      "execution_count": 1,
      "metadata": {
        "id": "csTHtO2DADwv"
      },
      "outputs": [],
      "source": [
        "import string"
      ]
    },
    {
      "cell_type": "code",
      "source": [
        "string.punctuation"
      ],
      "metadata": {
        "colab": {
          "base_uri": "https://localhost:8080/",
          "height": 35
        },
        "id": "QMfWNxaxJnQn",
        "outputId": "d790b329-6163-4530-befe-fc55b4bdd627"
      },
      "execution_count": 2,
      "outputs": [
        {
          "output_type": "execute_result",
          "data": {
            "text/plain": [
              "'!\"#$%&\\'()*+,-./:;<=>?@[\\\\]^_`{|}~'"
            ],
            "application/vnd.google.colaboratory.intrinsic+json": {
              "type": "string"
            }
          },
          "metadata": {},
          "execution_count": 2
        }
      ]
    },
    {
      "cell_type": "code",
      "source": [
        "text = \"Sure, let's optimize the grid search process to reduce computational time while still using grid search. We'll reduce the size of the parameter grid and use parallel processing to speed up the search. Here's the updated code:\""
      ],
      "metadata": {
        "id": "q8BELxqlJvbc"
      },
      "execution_count": 3,
      "outputs": []
    },
    {
      "cell_type": "code",
      "source": [
        "len(text)"
      ],
      "metadata": {
        "colab": {
          "base_uri": "https://localhost:8080/"
        },
        "id": "OarrtgbSJ89z",
        "outputId": "42534253-068c-4a51-a6c8-bea1af5dd6e0"
      },
      "execution_count": 4,
      "outputs": [
        {
          "output_type": "execute_result",
          "data": {
            "text/plain": [
              "225"
            ]
          },
          "metadata": {},
          "execution_count": 4
        }
      ]
    },
    {
      "cell_type": "code",
      "source": [
        "text_punc_removed = \"\"\n",
        "for letter in text:\n",
        "  if letter not in string.punctuation:\n",
        "    text_punc_removed=text_punc_removed+letter\n",
        "\n",
        "text_punc_removed"
      ],
      "metadata": {
        "colab": {
          "base_uri": "https://localhost:8080/",
          "height": 70
        },
        "id": "YoQzNA8HJ96E",
        "outputId": "9b8cf28f-4cb1-489b-a31a-dba40931d58b"
      },
      "execution_count": 6,
      "outputs": [
        {
          "output_type": "execute_result",
          "data": {
            "text/plain": [
              "'Sure lets optimize the grid search process to reduce computational time while still using grid search Well reduce the size of the parameter grid and use parallel processing to speed up the search Heres the updated code'"
            ],
            "application/vnd.google.colaboratory.intrinsic+json": {
              "type": "string"
            }
          },
          "metadata": {},
          "execution_count": 6
        }
      ]
    },
    {
      "cell_type": "code",
      "source": [
        "len(text_punc_removed)"
      ],
      "metadata": {
        "colab": {
          "base_uri": "https://localhost:8080/"
        },
        "id": "5A61_j08KTm5",
        "outputId": "a05ff75d-f7d2-408b-851f-444e9627b4f9"
      },
      "execution_count": 7,
      "outputs": [
        {
          "output_type": "execute_result",
          "data": {
            "text/plain": [
              "218"
            ]
          },
          "metadata": {},
          "execution_count": 7
        }
      ]
    },
    {
      "cell_type": "code",
      "source": [
        "text_punc_removed = text_punc_removed.lower()"
      ],
      "metadata": {
        "id": "kdEwy-UWKkiY"
      },
      "execution_count": 8,
      "outputs": []
    },
    {
      "cell_type": "markdown",
      "source": [
        "## NLP"
      ],
      "metadata": {
        "id": "6CNi1YJzLDcL"
      }
    },
    {
      "cell_type": "code",
      "source": [
        "import nltk\n",
        "nltk.download('punkt')"
      ],
      "metadata": {
        "colab": {
          "base_uri": "https://localhost:8080/"
        },
        "id": "to5GkYVnKrPD",
        "outputId": "04952d53-8fa9-4ca2-f42e-901bd1e568a9"
      },
      "execution_count": 12,
      "outputs": [
        {
          "output_type": "stream",
          "name": "stderr",
          "text": [
            "[nltk_data] Downloading package punkt to /root/nltk_data...\n",
            "[nltk_data]   Unzipping tokenizers/punkt.zip.\n"
          ]
        },
        {
          "output_type": "execute_result",
          "data": {
            "text/plain": [
              "True"
            ]
          },
          "metadata": {},
          "execution_count": 12
        }
      ]
    },
    {
      "cell_type": "markdown",
      "source": [
        "### TOKENIZATION"
      ],
      "metadata": {
        "id": "3Jp3EDdlLFlx"
      }
    },
    {
      "cell_type": "markdown",
      "source": [
        "SENTENCE TOKENIZATION"
      ],
      "metadata": {
        "id": "l8nxuy2HLde9"
      }
    },
    {
      "cell_type": "markdown",
      "source": [
        "Needs punct"
      ],
      "metadata": {
        "id": "LamAmmSCL5il"
      }
    },
    {
      "cell_type": "code",
      "source": [
        "sentence = nltk.sent_tokenize(text) #sentence tokenize - works based on punctuations.\n",
        "sentence"
      ],
      "metadata": {
        "colab": {
          "base_uri": "https://localhost:8080/"
        },
        "id": "Cn2mYu8BKuD4",
        "outputId": "1ae63b47-bc9d-404a-eece-69c4b136327e"
      },
      "execution_count": 14,
      "outputs": [
        {
          "output_type": "execute_result",
          "data": {
            "text/plain": [
              "[\"Sure, let's optimize the grid search process to reduce computational time while still using grid search.\",\n",
              " \"We'll reduce the size of the parameter grid and use parallel processing to speed up the search.\",\n",
              " \"Here's the updated code:\"]"
            ]
          },
          "metadata": {},
          "execution_count": 14
        }
      ]
    },
    {
      "cell_type": "code",
      "source": [
        "# Passing text without punct\n",
        "sent = nltk.sent_tokenize(text_punc_removed)\n",
        "sent # output - just 1 sentence"
      ],
      "metadata": {
        "colab": {
          "base_uri": "https://localhost:8080/"
        },
        "id": "2ynXbu28LOIY",
        "outputId": "d8db4eb0-81d5-4333-99d8-a8d1ed9567c0"
      },
      "execution_count": 15,
      "outputs": [
        {
          "output_type": "execute_result",
          "data": {
            "text/plain": [
              "['sure lets optimize the grid search process to reduce computational time while still using grid search well reduce the size of the parameter grid and use parallel processing to speed up the search heres the updated code']"
            ]
          },
          "metadata": {},
          "execution_count": 15
        }
      ]
    },
    {
      "cell_type": "markdown",
      "source": [
        "WORD TOKENIZATION"
      ],
      "metadata": {
        "id": "XmgfMrpgLhK1"
      }
    },
    {
      "cell_type": "markdown",
      "source": [
        "Remove punct"
      ],
      "metadata": {
        "id": "uS6vy-ClL7u1"
      }
    },
    {
      "cell_type": "code",
      "source": [
        "words = nltk.word_tokenize(text) #word tokenize\n",
        "words"
      ],
      "metadata": {
        "colab": {
          "base_uri": "https://localhost:8080/"
        },
        "id": "Ds0fofLILkMN",
        "outputId": "1459e505-e54d-49f3-9d18-d4706cf67c02"
      },
      "execution_count": 16,
      "outputs": [
        {
          "output_type": "execute_result",
          "data": {
            "text/plain": [
              "['Sure',\n",
              " ',',\n",
              " 'let',\n",
              " \"'s\",\n",
              " 'optimize',\n",
              " 'the',\n",
              " 'grid',\n",
              " 'search',\n",
              " 'process',\n",
              " 'to',\n",
              " 'reduce',\n",
              " 'computational',\n",
              " 'time',\n",
              " 'while',\n",
              " 'still',\n",
              " 'using',\n",
              " 'grid',\n",
              " 'search',\n",
              " '.',\n",
              " 'We',\n",
              " \"'ll\",\n",
              " 'reduce',\n",
              " 'the',\n",
              " 'size',\n",
              " 'of',\n",
              " 'the',\n",
              " 'parameter',\n",
              " 'grid',\n",
              " 'and',\n",
              " 'use',\n",
              " 'parallel',\n",
              " 'processing',\n",
              " 'to',\n",
              " 'speed',\n",
              " 'up',\n",
              " 'the',\n",
              " 'search',\n",
              " '.',\n",
              " 'Here',\n",
              " \"'s\",\n",
              " 'the',\n",
              " 'updated',\n",
              " 'code',\n",
              " ':']"
            ]
          },
          "metadata": {},
          "execution_count": 16
        }
      ]
    },
    {
      "cell_type": "markdown",
      "source": [
        "Every punct is added. very expensive to process this"
      ],
      "metadata": {
        "id": "T02Nue2zLr4O"
      }
    },
    {
      "cell_type": "code",
      "source": [
        "word = nltk.word_tokenize(text_punc_removed) #word tokenize - works based on punctuations.\n",
        "word"
      ],
      "metadata": {
        "colab": {
          "base_uri": "https://localhost:8080/"
        },
        "id": "vmsp_wiVLwiL",
        "outputId": "680faf18-917f-4639-b01b-7c6e75f8cbf4"
      },
      "execution_count": 17,
      "outputs": [
        {
          "output_type": "execute_result",
          "data": {
            "text/plain": [
              "['sure',\n",
              " 'lets',\n",
              " 'optimize',\n",
              " 'the',\n",
              " 'grid',\n",
              " 'search',\n",
              " 'process',\n",
              " 'to',\n",
              " 'reduce',\n",
              " 'computational',\n",
              " 'time',\n",
              " 'while',\n",
              " 'still',\n",
              " 'using',\n",
              " 'grid',\n",
              " 'search',\n",
              " 'well',\n",
              " 'reduce',\n",
              " 'the',\n",
              " 'size',\n",
              " 'of',\n",
              " 'the',\n",
              " 'parameter',\n",
              " 'grid',\n",
              " 'and',\n",
              " 'use',\n",
              " 'parallel',\n",
              " 'processing',\n",
              " 'to',\n",
              " 'speed',\n",
              " 'up',\n",
              " 'the',\n",
              " 'search',\n",
              " 'heres',\n",
              " 'the',\n",
              " 'updated',\n",
              " 'code']"
            ]
          },
          "metadata": {},
          "execution_count": 17
        }
      ]
    },
    {
      "cell_type": "markdown",
      "source": [
        "### STEMMING"
      ],
      "metadata": {
        "id": "mHLVt_VOLZSG"
      }
    },
    {
      "cell_type": "code",
      "source": [
        "from nltk.stem import PorterStemmer\n",
        "ps = PorterStemmer()"
      ],
      "metadata": {
        "id": "rtxpY35RMC3U"
      },
      "execution_count": 18,
      "outputs": []
    },
    {
      "cell_type": "code",
      "source": [
        "word = ['program', 'programmer', 'programming', 'programms', 'good']"
      ],
      "metadata": {
        "id": "oUH3CU46MHmH"
      },
      "execution_count": 19,
      "outputs": []
    },
    {
      "cell_type": "code",
      "source": [
        "for w in word:\n",
        "  print(w,\":\",ps.stem(w))"
      ],
      "metadata": {
        "colab": {
          "base_uri": "https://localhost:8080/"
        },
        "id": "o28cY4LWMPhs",
        "outputId": "e3b42eea-e81a-47ed-ff0b-36104cdafe9a"
      },
      "execution_count": 21,
      "outputs": [
        {
          "output_type": "stream",
          "name": "stdout",
          "text": [
            "program : program\n",
            "programmer : programm\n",
            "programming : program\n",
            "programms : programm\n",
            "good : good\n"
          ]
        }
      ]
    },
    {
      "cell_type": "markdown",
      "source": [
        "Output won't be meaninful always"
      ],
      "metadata": {
        "id": "rsG3ysTrMqck"
      }
    },
    {
      "cell_type": "code",
      "source": [
        "sent = \"Programmers program with programming language\"\n",
        "word = nltk.word_tokenize(sent)\n",
        "word"
      ],
      "metadata": {
        "colab": {
          "base_uri": "https://localhost:8080/"
        },
        "id": "BmHxSv5_M2IR",
        "outputId": "12789cfb-cdf2-4ff5-a3e9-ba6c7c380535"
      },
      "execution_count": 22,
      "outputs": [
        {
          "output_type": "execute_result",
          "data": {
            "text/plain": [
              "['Programmers', 'program', 'with', 'programming', 'language']"
            ]
          },
          "metadata": {},
          "execution_count": 22
        }
      ]
    },
    {
      "cell_type": "code",
      "source": [
        "for w in word:\n",
        "  print(w,\":\",ps.stem(w))"
      ],
      "metadata": {
        "colab": {
          "base_uri": "https://localhost:8080/"
        },
        "id": "0LNaQnYGNCeJ",
        "outputId": "c7e37a06-c26d-47f0-9fae-9b9e9ef479b7"
      },
      "execution_count": 23,
      "outputs": [
        {
          "output_type": "stream",
          "name": "stdout",
          "text": [
            "Programmers : programm\n",
            "program : program\n",
            "with : with\n",
            "programming : program\n",
            "language : languag\n"
          ]
        }
      ]
    },
    {
      "cell_type": "markdown",
      "source": [
        "### LEMMATIZATION"
      ],
      "metadata": {
        "id": "_LPkhKeENHCd"
      }
    },
    {
      "cell_type": "code",
      "source": [
        "from nltk.stem import WordNetLemmatizer\n",
        "nltk.download('wordnet')"
      ],
      "metadata": {
        "colab": {
          "base_uri": "https://localhost:8080/"
        },
        "id": "rSoE5a-aNJyK",
        "outputId": "da03e79b-c386-46d0-831d-aa7163cf4ac2"
      },
      "execution_count": 26,
      "outputs": [
        {
          "output_type": "stream",
          "name": "stderr",
          "text": [
            "[nltk_data] Downloading package wordnet to /root/nltk_data...\n"
          ]
        },
        {
          "output_type": "execute_result",
          "data": {
            "text/plain": [
              "True"
            ]
          },
          "metadata": {},
          "execution_count": 26
        }
      ]
    },
    {
      "cell_type": "code",
      "source": [
        "lemm = WordNetLemmatizer()"
      ],
      "metadata": {
        "id": "AZppROuMNPQs"
      },
      "execution_count": 25,
      "outputs": []
    },
    {
      "cell_type": "code",
      "source": [
        "print(\"driving\", lemm.lemmatize(\"driving\"))"
      ],
      "metadata": {
        "colab": {
          "base_uri": "https://localhost:8080/"
        },
        "id": "jPxETXvANTkr",
        "outputId": "8e0b4dc4-480c-4c08-f168-a086d273348e"
      },
      "execution_count": 27,
      "outputs": [
        {
          "output_type": "stream",
          "name": "stdout",
          "text": [
            "driving driving\n"
          ]
        }
      ]
    },
    {
      "cell_type": "code",
      "source": [
        "print(\"rocks\", lemm.lemmatize(\"rocks\"))"
      ],
      "metadata": {
        "colab": {
          "base_uri": "https://localhost:8080/"
        },
        "id": "7cnC6wunNnnG",
        "outputId": "36ae19de-ca5f-4a61-94c8-c21df6dd5f85"
      },
      "execution_count": 28,
      "outputs": [
        {
          "output_type": "stream",
          "name": "stdout",
          "text": [
            "rocks rock\n"
          ]
        }
      ]
    },
    {
      "cell_type": "code",
      "source": [
        "print(\"leaves\", lemm.lemmatize(\"leaves\"))"
      ],
      "metadata": {
        "colab": {
          "base_uri": "https://localhost:8080/"
        },
        "id": "kCxVxmKRNsU2",
        "outputId": "31dd412e-dbd1-46e9-ad31-d9ec940ada11"
      },
      "execution_count": 29,
      "outputs": [
        {
          "output_type": "stream",
          "name": "stdout",
          "text": [
            "leaves leaf\n"
          ]
        }
      ]
    },
    {
      "cell_type": "code",
      "source": [
        "print(\"better\", lemm.lemmatize(\"better\",pos=\"a\"))"
      ],
      "metadata": {
        "colab": {
          "base_uri": "https://localhost:8080/"
        },
        "id": "7f01o0UUOCFw",
        "outputId": "6e506e5e-eaf0-448d-f045-6db5935ac0f3"
      },
      "execution_count": 32,
      "outputs": [
        {
          "output_type": "stream",
          "name": "stdout",
          "text": [
            "better good\n"
          ]
        }
      ]
    },
    {
      "cell_type": "code",
      "source": [
        "from nltk.corpus import stopwords\n",
        "nltk.download('stopwords')"
      ],
      "metadata": {
        "colab": {
          "base_uri": "https://localhost:8080/"
        },
        "id": "kQ0i1PcnOPkO",
        "outputId": "cfda15bd-9327-4014-8a03-c2af83b24752"
      },
      "execution_count": 34,
      "outputs": [
        {
          "output_type": "stream",
          "name": "stderr",
          "text": [
            "[nltk_data] Downloading package stopwords to /root/nltk_data...\n",
            "[nltk_data]   Package stopwords is already up-to-date!\n"
          ]
        },
        {
          "output_type": "execute_result",
          "data": {
            "text/plain": [
              "True"
            ]
          },
          "metadata": {},
          "execution_count": 34
        }
      ]
    },
    {
      "cell_type": "code",
      "source": [
        "print(stopwords.fileids()) #languages supported"
      ],
      "metadata": {
        "colab": {
          "base_uri": "https://localhost:8080/"
        },
        "id": "261i3InWPWf5",
        "outputId": "c45a2277-fdb4-4158-feea-f5654b849d8e"
      },
      "execution_count": 35,
      "outputs": [
        {
          "output_type": "stream",
          "name": "stdout",
          "text": [
            "['arabic', 'azerbaijani', 'basque', 'bengali', 'catalan', 'chinese', 'danish', 'dutch', 'english', 'finnish', 'french', 'german', 'greek', 'hebrew', 'hinglish', 'hungarian', 'indonesian', 'italian', 'kazakh', 'nepali', 'norwegian', 'portuguese', 'romanian', 'russian', 'slovene', 'spanish', 'swedish', 'tajik', 'turkish']\n"
          ]
        }
      ]
    },
    {
      "cell_type": "code",
      "source": [
        "stopword = nltk.corpus.stopwords.words('english') #stopwords in english\n",
        "stopword"
      ],
      "metadata": {
        "colab": {
          "base_uri": "https://localhost:8080/"
        },
        "id": "d1I4id9FPOav",
        "outputId": "7f20122c-a972-4b3a-931d-a3123ad40f25"
      },
      "execution_count": 37,
      "outputs": [
        {
          "output_type": "execute_result",
          "data": {
            "text/plain": [
              "['i',\n",
              " 'me',\n",
              " 'my',\n",
              " 'myself',\n",
              " 'we',\n",
              " 'our',\n",
              " 'ours',\n",
              " 'ourselves',\n",
              " 'you',\n",
              " \"you're\",\n",
              " \"you've\",\n",
              " \"you'll\",\n",
              " \"you'd\",\n",
              " 'your',\n",
              " 'yours',\n",
              " 'yourself',\n",
              " 'yourselves',\n",
              " 'he',\n",
              " 'him',\n",
              " 'his',\n",
              " 'himself',\n",
              " 'she',\n",
              " \"she's\",\n",
              " 'her',\n",
              " 'hers',\n",
              " 'herself',\n",
              " 'it',\n",
              " \"it's\",\n",
              " 'its',\n",
              " 'itself',\n",
              " 'they',\n",
              " 'them',\n",
              " 'their',\n",
              " 'theirs',\n",
              " 'themselves',\n",
              " 'what',\n",
              " 'which',\n",
              " 'who',\n",
              " 'whom',\n",
              " 'this',\n",
              " 'that',\n",
              " \"that'll\",\n",
              " 'these',\n",
              " 'those',\n",
              " 'am',\n",
              " 'is',\n",
              " 'are',\n",
              " 'was',\n",
              " 'were',\n",
              " 'be',\n",
              " 'been',\n",
              " 'being',\n",
              " 'have',\n",
              " 'has',\n",
              " 'had',\n",
              " 'having',\n",
              " 'do',\n",
              " 'does',\n",
              " 'did',\n",
              " 'doing',\n",
              " 'a',\n",
              " 'an',\n",
              " 'the',\n",
              " 'and',\n",
              " 'but',\n",
              " 'if',\n",
              " 'or',\n",
              " 'because',\n",
              " 'as',\n",
              " 'until',\n",
              " 'while',\n",
              " 'of',\n",
              " 'at',\n",
              " 'by',\n",
              " 'for',\n",
              " 'with',\n",
              " 'about',\n",
              " 'against',\n",
              " 'between',\n",
              " 'into',\n",
              " 'through',\n",
              " 'during',\n",
              " 'before',\n",
              " 'after',\n",
              " 'above',\n",
              " 'below',\n",
              " 'to',\n",
              " 'from',\n",
              " 'up',\n",
              " 'down',\n",
              " 'in',\n",
              " 'out',\n",
              " 'on',\n",
              " 'off',\n",
              " 'over',\n",
              " 'under',\n",
              " 'again',\n",
              " 'further',\n",
              " 'then',\n",
              " 'once',\n",
              " 'here',\n",
              " 'there',\n",
              " 'when',\n",
              " 'where',\n",
              " 'why',\n",
              " 'how',\n",
              " 'all',\n",
              " 'any',\n",
              " 'both',\n",
              " 'each',\n",
              " 'few',\n",
              " 'more',\n",
              " 'most',\n",
              " 'other',\n",
              " 'some',\n",
              " 'such',\n",
              " 'no',\n",
              " 'nor',\n",
              " 'not',\n",
              " 'only',\n",
              " 'own',\n",
              " 'same',\n",
              " 'so',\n",
              " 'than',\n",
              " 'too',\n",
              " 'very',\n",
              " 's',\n",
              " 't',\n",
              " 'can',\n",
              " 'will',\n",
              " 'just',\n",
              " 'don',\n",
              " \"don't\",\n",
              " 'should',\n",
              " \"should've\",\n",
              " 'now',\n",
              " 'd',\n",
              " 'll',\n",
              " 'm',\n",
              " 'o',\n",
              " 're',\n",
              " 've',\n",
              " 'y',\n",
              " 'ain',\n",
              " 'aren',\n",
              " \"aren't\",\n",
              " 'couldn',\n",
              " \"couldn't\",\n",
              " 'didn',\n",
              " \"didn't\",\n",
              " 'doesn',\n",
              " \"doesn't\",\n",
              " 'hadn',\n",
              " \"hadn't\",\n",
              " 'hasn',\n",
              " \"hasn't\",\n",
              " 'haven',\n",
              " \"haven't\",\n",
              " 'isn',\n",
              " \"isn't\",\n",
              " 'ma',\n",
              " 'mightn',\n",
              " \"mightn't\",\n",
              " 'mustn',\n",
              " \"mustn't\",\n",
              " 'needn',\n",
              " \"needn't\",\n",
              " 'shan',\n",
              " \"shan't\",\n",
              " 'shouldn',\n",
              " \"shouldn't\",\n",
              " 'wasn',\n",
              " \"wasn't\",\n",
              " 'weren',\n",
              " \"weren't\",\n",
              " 'won',\n",
              " \"won't\",\n",
              " 'wouldn',\n",
              " \"wouldn't\"]"
            ]
          },
          "metadata": {},
          "execution_count": 37
        }
      ]
    },
    {
      "cell_type": "code",
      "source": [
        "text = \"I will be going to the park\"\n",
        "text = nltk.word_tokenize(text)\n",
        "text"
      ],
      "metadata": {
        "colab": {
          "base_uri": "https://localhost:8080/"
        },
        "id": "ZXHQpwP8P-p2",
        "outputId": "93a76c7f-ce39-4042-a529-e0500aff50c1"
      },
      "execution_count": 39,
      "outputs": [
        {
          "output_type": "execute_result",
          "data": {
            "text/plain": [
              "['I', 'will', 'be', 'going', 'to', 'the', 'park']"
            ]
          },
          "metadata": {},
          "execution_count": 39
        }
      ]
    },
    {
      "cell_type": "code",
      "source": [
        "stop_removed = []\n",
        "for word in text:\n",
        "  if word not in stopword:\n",
        "    stop_removed.append(word)\n",
        "stop_removed"
      ],
      "metadata": {
        "colab": {
          "base_uri": "https://localhost:8080/"
        },
        "id": "la-W6ZxGQHYN",
        "outputId": "a3522bcf-6597-4b6f-e119-bcd42f740695"
      },
      "execution_count": 41,
      "outputs": [
        {
          "output_type": "execute_result",
          "data": {
            "text/plain": [
              "['I', 'going', 'park']"
            ]
          },
          "metadata": {},
          "execution_count": 41
        }
      ]
    }
  ]
}