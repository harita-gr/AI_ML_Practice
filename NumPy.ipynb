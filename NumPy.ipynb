{
  "nbformat": 4,
  "nbformat_minor": 0,
  "metadata": {
    "colab": {
      "provenance": [],
      "authorship_tag": "ABX9TyPOy2Yuqr3jXaB+nVkZ9RB2",
      "include_colab_link": true
    },
    "kernelspec": {
      "name": "python3",
      "display_name": "Python 3"
    },
    "language_info": {
      "name": "python"
    }
  },
  "cells": [
    {
      "cell_type": "markdown",
      "metadata": {
        "id": "view-in-github",
        "colab_type": "text"
      },
      "source": [
        "<a href=\"https://colab.research.google.com/github/harita-gr/AI_ML_Practice/blob/main/NumPy.ipynb\" target=\"_parent\"><img src=\"https://colab.research.google.com/assets/colab-badge.svg\" alt=\"Open In Colab\"/></a>"
      ]
    },
    {
      "cell_type": "code",
      "source": [
        "import numpy as np"
      ],
      "metadata": {
        "id": "qUcoy2RLrdaO"
      },
      "execution_count": null,
      "outputs": []
    },
    {
      "cell_type": "markdown",
      "source": [
        "Integer Array"
      ],
      "metadata": {
        "id": "Qr6MP3OXrYm_"
      }
    },
    {
      "cell_type": "code",
      "execution_count": null,
      "metadata": {
        "colab": {
          "base_uri": "https://localhost:8080/"
        },
        "id": "DZUDIXL3qrkx",
        "outputId": "4d02e299-db4a-4b63-c33c-be12ac46cb4c"
      },
      "outputs": [
        {
          "output_type": "stream",
          "name": "stdout",
          "text": [
            "[10 20 30 40 50]\n"
          ]
        }
      ],
      "source": [
        "integers = np.array([10,20,30,40,50])\n",
        "print(integers)"
      ]
    },
    {
      "cell_type": "markdown",
      "source": [
        "Try to insert a float value to integer array.\n",
        "\n",
        "O/P: The values gets chopped/rounded to integer"
      ],
      "metadata": {
        "id": "L4Sn6w0yrM00"
      }
    },
    {
      "cell_type": "code",
      "source": [
        "integers[0] = 34.2\n",
        "integers"
      ],
      "metadata": {
        "colab": {
          "base_uri": "https://localhost:8080/"
        },
        "id": "RGJnsuwXq6tV",
        "outputId": "3da9fa89-3eaa-4a37-c1bf-b69aa0b1039f"
      },
      "execution_count": null,
      "outputs": [
        {
          "output_type": "execute_result",
          "data": {
            "text/plain": [
              "array([34, 20, 30, 40, 50])"
            ]
          },
          "metadata": {},
          "execution_count": 2
        }
      ]
    },
    {
      "cell_type": "markdown",
      "source": [
        "Find Array Type"
      ],
      "metadata": {
        "id": "DsBbA7ZHrXcm"
      }
    },
    {
      "cell_type": "code",
      "source": [
        "integers.dtype"
      ],
      "metadata": {
        "colab": {
          "base_uri": "https://localhost:8080/"
        },
        "id": "qm6YqY22rn1f",
        "outputId": "18f70220-c1b9-4e4f-fc7e-468f34a50e1d"
      },
      "execution_count": null,
      "outputs": [
        {
          "output_type": "execute_result",
          "data": {
            "text/plain": [
              "dtype('int64')"
            ]
          },
          "metadata": {},
          "execution_count": 3
        }
      ]
    },
    {
      "cell_type": "markdown",
      "source": [
        "Enforce Array Type"
      ],
      "metadata": {
        "id": "fb2vQdIgrnhE"
      }
    },
    {
      "cell_type": "code",
      "source": [
        "smallerIntegers = np.array(integers, dtype=np.int8)\n",
        "smallerIntegers"
      ],
      "metadata": {
        "colab": {
          "base_uri": "https://localhost:8080/"
        },
        "id": "nl8YxC6KsGVg",
        "outputId": "fe7169d7-060d-43c2-947f-b5432e62b17c"
      },
      "execution_count": null,
      "outputs": [
        {
          "output_type": "execute_result",
          "data": {
            "text/plain": [
              "array([34, 20, 30, 40, 50], dtype=int8)"
            ]
          },
          "metadata": {},
          "execution_count": 4
        }
      ]
    },
    {
      "cell_type": "markdown",
      "source": [
        "See Difference in Type"
      ],
      "metadata": {
        "id": "GtF78Jg_rX-c"
      }
    },
    {
      "cell_type": "code",
      "source": [
        "integers.nbytes"
      ],
      "metadata": {
        "colab": {
          "base_uri": "https://localhost:8080/"
        },
        "id": "LGKYKtiFrJkS",
        "outputId": "2d475957-07a9-4d7b-d653-7c7d99119511"
      },
      "execution_count": null,
      "outputs": [
        {
          "output_type": "execute_result",
          "data": {
            "text/plain": [
              "5"
            ]
          },
          "metadata": {},
          "execution_count": 8
        }
      ]
    },
    {
      "cell_type": "code",
      "source": [
        "smallerIntegers.nbytes"
      ],
      "metadata": {
        "colab": {
          "base_uri": "https://localhost:8080/"
        },
        "id": "XQCDaezjsYxP",
        "outputId": "4037f285-d362-4ad8-a795-1ee38a3eb176"
      },
      "execution_count": null,
      "outputs": [
        {
          "output_type": "execute_result",
          "data": {
            "text/plain": [
              "5"
            ]
          },
          "metadata": {},
          "execution_count": 9
        }
      ]
    },
    {
      "cell_type": "markdown",
      "source": [
        "## Multi Dimensional Array\n"
      ],
      "metadata": {
        "id": "ingcxjPoE818"
      }
    },
    {
      "cell_type": "code",
      "source": [
        "nums = np.array([[1,2,3,4,5],[6,7,8,9,10]])\n",
        "nums"
      ],
      "metadata": {
        "colab": {
          "base_uri": "https://localhost:8080/"
        },
        "id": "oYx4xaczsgOn",
        "outputId": "794d03d5-64d2-4edd-daab-00ff640a9a90"
      },
      "execution_count": null,
      "outputs": [
        {
          "output_type": "execute_result",
          "data": {
            "text/plain": [
              "array([[ 1,  2,  3,  4,  5],\n",
              "       [ 6,  7,  8,  9, 10]])"
            ]
          },
          "metadata": {},
          "execution_count": 5
        }
      ]
    },
    {
      "cell_type": "code",
      "source": [
        "nums[0,0]"
      ],
      "metadata": {
        "colab": {
          "base_uri": "https://localhost:8080/"
        },
        "id": "Ov-XSS3iFYbP",
        "outputId": "78ab5d95-c01a-459b-ea7f-fda9c35835c4"
      },
      "execution_count": null,
      "outputs": [
        {
          "output_type": "execute_result",
          "data": {
            "text/plain": [
              "1"
            ]
          },
          "metadata": {},
          "execution_count": 6
        }
      ]
    },
    {
      "cell_type": "code",
      "source": [
        "nums[1,4]"
      ],
      "metadata": {
        "colab": {
          "base_uri": "https://localhost:8080/"
        },
        "id": "I8n48m1mFbFk",
        "outputId": "bd5e0d97-40cd-440f-80bf-98db4f22f9e4"
      },
      "execution_count": null,
      "outputs": [
        {
          "output_type": "execute_result",
          "data": {
            "text/plain": [
              "10"
            ]
          },
          "metadata": {},
          "execution_count": 7
        }
      ]
    },
    {
      "cell_type": "markdown",
      "source": [
        "Find dimensions of an array"
      ],
      "metadata": {
        "id": "Ud1u-DvBGVL8"
      }
    },
    {
      "cell_type": "code",
      "source": [
        "nums.ndim"
      ],
      "metadata": {
        "colab": {
          "base_uri": "https://localhost:8080/"
        },
        "id": "7kbA9qHqGRpT",
        "outputId": "c2994a98-703d-4f4d-bbcb-b8c73e18c579"
      },
      "execution_count": null,
      "outputs": [
        {
          "output_type": "execute_result",
          "data": {
            "text/plain": [
              "2"
            ]
          },
          "metadata": {},
          "execution_count": 8
        }
      ]
    },
    {
      "cell_type": "markdown",
      "source": [
        "## Creating Array from Python Structures"
      ],
      "metadata": {
        "id": "Hg2IVfQtHHQ4"
      }
    },
    {
      "cell_type": "markdown",
      "source": [
        "List"
      ],
      "metadata": {
        "id": "VoxxQbKTIRQE"
      }
    },
    {
      "cell_type": "code",
      "source": [
        "first_list=[1,2,3,4,5] #integers\n",
        "first_array=np.array(first_list)\n",
        "first_array"
      ],
      "metadata": {
        "colab": {
          "base_uri": "https://localhost:8080/"
        },
        "id": "eTI-EtDpHG9E",
        "outputId": "0f403ca2-b457-44d5-d9d1-e3cfa2459093"
      },
      "execution_count": null,
      "outputs": [
        {
          "output_type": "execute_result",
          "data": {
            "text/plain": [
              "array([1, 2, 3, 4, 5])"
            ]
          },
          "metadata": {},
          "execution_count": 9
        }
      ]
    },
    {
      "cell_type": "code",
      "source": [
        "second_list=[1,2,4,-1.24,56,1280000.56] #integers, float\n",
        "second_array=np.array(second_list)\n",
        "second_array"
      ],
      "metadata": {
        "colab": {
          "base_uri": "https://localhost:8080/"
        },
        "id": "r_bK9uSiGaQJ",
        "outputId": "b0b6ed46-766b-40c9-ffe1-6b8a8b23bcb0"
      },
      "execution_count": null,
      "outputs": [
        {
          "output_type": "execute_result",
          "data": {
            "text/plain": [
              "array([ 1.00000000e+00,  2.00000000e+00,  4.00000000e+00, -1.24000000e+00,\n",
              "        5.60000000e+01,  1.28000056e+06])"
            ]
          },
          "metadata": {},
          "execution_count": 10
        }
      ]
    },
    {
      "cell_type": "code",
      "source": [
        "third_list=[1,2,\"Ann\", 13232, \"John\"] #integers, string\n",
        "third_array=np.array(third_list)\n",
        "third_array"
      ],
      "metadata": {
        "colab": {
          "base_uri": "https://localhost:8080/"
        },
        "id": "Dr6fV-K2H5l8",
        "outputId": "09fea9e7-1763-490e-8fec-6b8e01551f90"
      },
      "execution_count": null,
      "outputs": [
        {
          "output_type": "execute_result",
          "data": {
            "text/plain": [
              "array(['1', '2', 'Ann', '13232', 'John'], dtype='<U21')"
            ]
          },
          "metadata": {},
          "execution_count": 11
        }
      ]
    },
    {
      "cell_type": "markdown",
      "source": [
        "Tuple"
      ],
      "metadata": {
        "id": "8MtUJLFDINBg"
      }
    },
    {
      "cell_type": "code",
      "source": [
        "first_tuple=(5,10,18,30)\n",
        "array_from_tuple = np.array(first_tuple)\n",
        "array_from_tuple"
      ],
      "metadata": {
        "colab": {
          "base_uri": "https://localhost:8080/"
        },
        "id": "lzK58fFKIBuN",
        "outputId": "dc43fffd-1897-4744-8547-ce0028bed8f1"
      },
      "execution_count": null,
      "outputs": [
        {
          "output_type": "execute_result",
          "data": {
            "text/plain": [
              "array([ 5, 10, 18, 30])"
            ]
          },
          "metadata": {},
          "execution_count": 13
        }
      ]
    },
    {
      "cell_type": "code",
      "source": [
        "array_from_tuple.dtype"
      ],
      "metadata": {
        "colab": {
          "base_uri": "https://localhost:8080/"
        },
        "id": "Piwqn934IXFo",
        "outputId": "c8e59ee8-52b7-49ca-a76a-a252629ef719"
      },
      "execution_count": null,
      "outputs": [
        {
          "output_type": "execute_result",
          "data": {
            "text/plain": [
              "dtype('int64')"
            ]
          },
          "metadata": {},
          "execution_count": 14
        }
      ]
    },
    {
      "cell_type": "markdown",
      "source": [
        "## Intrinsic NumPy array creation"
      ],
      "metadata": {
        "id": "0OaPu5sGJlUM"
      }
    },
    {
      "cell_type": "markdown",
      "source": [
        "Integer Array - `arange`"
      ],
      "metadata": {
        "id": "QxjdnGeDJ8MS"
      }
    },
    {
      "cell_type": "code",
      "source": [
        "integers_array = np.arange(10)\n",
        "integers_array"
      ],
      "metadata": {
        "colab": {
          "base_uri": "https://localhost:8080/"
        },
        "id": "gau0uw79JngV",
        "outputId": "a53a0630-4ea7-47b5-9ddc-62cc35079c55"
      },
      "execution_count": null,
      "outputs": [
        {
          "output_type": "execute_result",
          "data": {
            "text/plain": [
              "array([0, 1, 2, 3, 4, 5, 6, 7, 8, 9])"
            ]
          },
          "metadata": {},
          "execution_count": 16
        }
      ]
    },
    {
      "cell_type": "code",
      "source": [
        "integers_second_array = np.arange(100,130)\n",
        "integers_second_array"
      ],
      "metadata": {
        "colab": {
          "base_uri": "https://localhost:8080/"
        },
        "id": "oKhzX1GCJ1f8",
        "outputId": "dcff003f-809a-43d9-a7e3-185f39991d3d"
      },
      "execution_count": null,
      "outputs": [
        {
          "output_type": "execute_result",
          "data": {
            "text/plain": [
              "array([100, 101, 102, 103, 104, 105, 106, 107, 108, 109, 110, 111, 112,\n",
              "       113, 114, 115, 116, 117, 118, 119, 120, 121, 122, 123, 124, 125,\n",
              "       126, 127, 128, 129])"
            ]
          },
          "metadata": {},
          "execution_count": 17
        }
      ]
    },
    {
      "cell_type": "code",
      "source": [
        "integers_third_array = np.arange(100,130,2)\n",
        "integers_third_array"
      ],
      "metadata": {
        "colab": {
          "base_uri": "https://localhost:8080/"
        },
        "id": "sonRIXMdKeXv",
        "outputId": "d64d9333-5a85-49e4-f8e3-037c21d09c8f"
      },
      "execution_count": null,
      "outputs": [
        {
          "output_type": "execute_result",
          "data": {
            "text/plain": [
              "array([100, 102, 104, 106, 108, 110, 112, 114, 116, 118, 120, 122, 124,\n",
              "       126, 128])"
            ]
          },
          "metadata": {},
          "execution_count": 20
        }
      ]
    },
    {
      "cell_type": "markdown",
      "source": [
        "Float Array - `linspace`"
      ],
      "metadata": {
        "id": "syLavKCIJ-EU"
      }
    },
    {
      "cell_type": "code",
      "source": [
        "first_floats_arr = np.linspace(10,20)\n",
        "first_floats_arr"
      ],
      "metadata": {
        "colab": {
          "base_uri": "https://localhost:8080/"
        },
        "id": "oUWfh6_aKRVZ",
        "outputId": "6ae537c3-af46-49f6-c117-2eec725a395f"
      },
      "execution_count": null,
      "outputs": [
        {
          "output_type": "execute_result",
          "data": {
            "text/plain": [
              "array([10.        , 10.20408163, 10.40816327, 10.6122449 , 10.81632653,\n",
              "       11.02040816, 11.2244898 , 11.42857143, 11.63265306, 11.83673469,\n",
              "       12.04081633, 12.24489796, 12.44897959, 12.65306122, 12.85714286,\n",
              "       13.06122449, 13.26530612, 13.46938776, 13.67346939, 13.87755102,\n",
              "       14.08163265, 14.28571429, 14.48979592, 14.69387755, 14.89795918,\n",
              "       15.10204082, 15.30612245, 15.51020408, 15.71428571, 15.91836735,\n",
              "       16.12244898, 16.32653061, 16.53061224, 16.73469388, 16.93877551,\n",
              "       17.14285714, 17.34693878, 17.55102041, 17.75510204, 17.95918367,\n",
              "       18.16326531, 18.36734694, 18.57142857, 18.7755102 , 18.97959184,\n",
              "       19.18367347, 19.3877551 , 19.59183673, 19.79591837, 20.        ])"
            ]
          },
          "metadata": {},
          "execution_count": 19
        }
      ]
    },
    {
      "cell_type": "code",
      "source": [
        "second_floats_arr = np.linspace(10,20,5)\n",
        "second_floats_arr"
      ],
      "metadata": {
        "colab": {
          "base_uri": "https://localhost:8080/"
        },
        "id": "eHngnGzPKVKi",
        "outputId": "e36a86e0-e574-4c7f-aa0f-7817f5fd8dc2"
      },
      "execution_count": null,
      "outputs": [
        {
          "output_type": "execute_result",
          "data": {
            "text/plain": [
              "array([10. , 12.5, 15. , 17.5, 20. ])"
            ]
          },
          "metadata": {},
          "execution_count": 21
        }
      ]
    },
    {
      "cell_type": "markdown",
      "source": [
        "Creating Array with Random Values"
      ],
      "metadata": {
        "id": "yltR5uc5LO-g"
      }
    },
    {
      "cell_type": "code",
      "source": [
        "first_rand_arr = np.random.rand(10)\n",
        "first_rand_arr"
      ],
      "metadata": {
        "colab": {
          "base_uri": "https://localhost:8080/"
        },
        "id": "EbF96GWCLS06",
        "outputId": "bfe0ecd0-c103-43b5-9e0a-ff1a29b10011"
      },
      "execution_count": null,
      "outputs": [
        {
          "output_type": "execute_result",
          "data": {
            "text/plain": [
              "array([0.51865824, 0.25817935, 0.98808966, 0.01964566, 0.923881  ,\n",
              "       0.36918335, 0.34179153, 0.81481092, 0.13752853, 0.39775235])"
            ]
          },
          "metadata": {},
          "execution_count": 22
        }
      ]
    },
    {
      "cell_type": "code",
      "source": [
        "second_rand_arr = np.random.rand(4,4)\n",
        "second_rand_arr"
      ],
      "metadata": {
        "colab": {
          "base_uri": "https://localhost:8080/"
        },
        "id": "LQeKgekRL1uF",
        "outputId": "030d8447-49cf-433c-afc2-5a74c49851d1"
      },
      "execution_count": null,
      "outputs": [
        {
          "output_type": "execute_result",
          "data": {
            "text/plain": [
              "array([[0.1535405 , 0.73182279, 0.88654039, 0.51316989],\n",
              "       [0.46665161, 0.82831274, 0.24527574, 0.2235644 ],\n",
              "       [0.14764597, 0.20777631, 0.6096765 , 0.26945275],\n",
              "       [0.44614355, 0.21707782, 0.46530431, 0.75449318]])"
            ]
          },
          "metadata": {},
          "execution_count": 23
        }
      ]
    },
    {
      "cell_type": "code",
      "source": [
        "third_rand_arr = np.random.randint(0,100,20)\n",
        "third_rand_arr"
      ],
      "metadata": {
        "colab": {
          "base_uri": "https://localhost:8080/"
        },
        "id": "d1fB-25mL5yx",
        "outputId": "4640b1b4-f2ae-488e-bfa9-653f1be76682"
      },
      "execution_count": null,
      "outputs": [
        {
          "output_type": "execute_result",
          "data": {
            "text/plain": [
              "array([82, 47, 88,  1, 66, 17, 12, 92, 85, 40, 34, 74, 20, 94, 70, 55,  8,\n",
              "       80, 33, 51])"
            ]
          },
          "metadata": {},
          "execution_count": 26
        }
      ]
    },
    {
      "cell_type": "markdown",
      "source": [
        "Creating arrays filled with constant values"
      ],
      "metadata": {
        "id": "aK-O3b1nMIqa"
      }
    },
    {
      "cell_type": "code",
      "source": [
        "first_z_arr = np.zeros(5) # 1-d array\n",
        "first_z_arr"
      ],
      "metadata": {
        "colab": {
          "base_uri": "https://localhost:8080/"
        },
        "id": "Mxd-I2r7MIaE",
        "outputId": "e867c404-a1df-42a4-d231-a9fe4b5481aa"
      },
      "execution_count": null,
      "outputs": [
        {
          "output_type": "execute_result",
          "data": {
            "text/plain": [
              "array([0., 0., 0., 0., 0.])"
            ]
          },
          "metadata": {},
          "execution_count": 27
        }
      ]
    },
    {
      "cell_type": "code",
      "source": [
        "second_z_arr = np.zeros((4,5)) # tuple for 2-d array\n",
        "second_z_arr"
      ],
      "metadata": {
        "colab": {
          "base_uri": "https://localhost:8080/"
        },
        "id": "zhb0XwKUMUkQ",
        "outputId": "099eafd5-2392-44af-f8e4-a4f0ce3c43ed"
      },
      "execution_count": null,
      "outputs": [
        {
          "output_type": "execute_result",
          "data": {
            "text/plain": [
              "array([[0., 0., 0., 0., 0.],\n",
              "       [0., 0., 0., 0., 0.],\n",
              "       [0., 0., 0., 0., 0.],\n",
              "       [0., 0., 0., 0., 0.]])"
            ]
          },
          "metadata": {},
          "execution_count": 28
        }
      ]
    },
    {
      "cell_type": "code",
      "source": [
        "first_ones_arr = np.ones(6)\n",
        "first_ones_arr"
      ],
      "metadata": {
        "colab": {
          "base_uri": "https://localhost:8080/"
        },
        "id": "_Eu5s82BMicx",
        "outputId": "7e69e35c-7c8a-4dc9-d88b-3c9d71bd1bfd"
      },
      "execution_count": null,
      "outputs": [
        {
          "output_type": "execute_result",
          "data": {
            "text/plain": [
              "array([1., 1., 1., 1., 1., 1.])"
            ]
          },
          "metadata": {},
          "execution_count": 29
        }
      ]
    },
    {
      "cell_type": "code",
      "source": [
        "second_ones_arr = np.ones((4,5)) # tuple for 2-d array\n",
        "second_ones_arr"
      ],
      "metadata": {
        "colab": {
          "base_uri": "https://localhost:8080/"
        },
        "id": "mkaMW7ghMpan",
        "outputId": "7e0515c4-547f-4561-e02c-de2d7318edac"
      },
      "execution_count": null,
      "outputs": [
        {
          "output_type": "execute_result",
          "data": {
            "text/plain": [
              "array([[1., 1., 1., 1., 1.],\n",
              "       [1., 1., 1., 1., 1.],\n",
              "       [1., 1., 1., 1., 1.],\n",
              "       [1., 1., 1., 1., 1.]])"
            ]
          },
          "metadata": {},
          "execution_count": 30
        }
      ]
    },
    {
      "cell_type": "markdown",
      "source": [
        "`fill` - 1D array\n",
        "`full` - 1D and 2D array"
      ],
      "metadata": {
        "id": "7Hc8KaJ7MysY"
      }
    },
    {
      "cell_type": "code",
      "source": [
        "first_fill_arr = np.empty(10,dtype=int) #create empty array first\n",
        "first_fill_arr.fill(12)\n",
        "first_fill_arr"
      ],
      "metadata": {
        "colab": {
          "base_uri": "https://localhost:8080/"
        },
        "id": "Yvb2x9lcMuMB",
        "outputId": "25903096-8fb4-4419-9791-353f6643a62a"
      },
      "execution_count": null,
      "outputs": [
        {
          "output_type": "execute_result",
          "data": {
            "text/plain": [
              "array([12, 12, 12, 12, 12, 12, 12, 12, 12, 12])"
            ]
          },
          "metadata": {},
          "execution_count": 31
        }
      ]
    },
    {
      "cell_type": "code",
      "source": [
        "first_full_arr = np.full(5,10)\n",
        "first_full_arr"
      ],
      "metadata": {
        "colab": {
          "base_uri": "https://localhost:8080/"
        },
        "id": "_IPy3cOUNKrj",
        "outputId": "6440cdb1-cc06-4970-eceb-2d5899baeca0"
      },
      "execution_count": null,
      "outputs": [
        {
          "output_type": "execute_result",
          "data": {
            "text/plain": [
              "array([10, 10, 10, 10, 10])"
            ]
          },
          "metadata": {},
          "execution_count": 33
        }
      ]
    },
    {
      "cell_type": "code",
      "source": [
        "sec_full_arr = np.full((4,5),10)\n",
        "sec_full_arr"
      ],
      "metadata": {
        "colab": {
          "base_uri": "https://localhost:8080/"
        },
        "id": "hwJuGD32NmiJ",
        "outputId": "74e3d432-572a-47e9-d5fc-7e9147098ed5"
      },
      "execution_count": null,
      "outputs": [
        {
          "output_type": "execute_result",
          "data": {
            "text/plain": [
              "array([[10, 10, 10, 10, 10],\n",
              "       [10, 10, 10, 10, 10],\n",
              "       [10, 10, 10, 10, 10],\n",
              "       [10, 10, 10, 10, 10]])"
            ]
          },
          "metadata": {},
          "execution_count": 34
        }
      ]
    },
    {
      "cell_type": "markdown",
      "source": [
        "## Finding the shape and size of an array"
      ],
      "metadata": {
        "id": "gM49RbSacMGt"
      }
    },
    {
      "cell_type": "code",
      "source": [
        "first_arr = np.arange(20)\n",
        "second_arr = np.linspace((1,2),(10,20),10)\n",
        "third_arr = np.full((2,2,2),10)"
      ],
      "metadata": {
        "id": "ZG-UuVEgcVF_"
      },
      "execution_count": null,
      "outputs": []
    },
    {
      "cell_type": "code",
      "source": [
        "first_arr"
      ],
      "metadata": {
        "colab": {
          "base_uri": "https://localhost:8080/"
        },
        "id": "8QXcVzzacpXj",
        "outputId": "39d0351d-2ce7-498d-ae78-f5e8eb291ffe"
      },
      "execution_count": null,
      "outputs": [
        {
          "output_type": "execute_result",
          "data": {
            "text/plain": [
              "array([ 0,  1,  2,  3,  4,  5,  6,  7,  8,  9, 10, 11, 12, 13, 14, 15, 16,\n",
              "       17, 18, 19])"
            ]
          },
          "metadata": {},
          "execution_count": 39
        }
      ]
    },
    {
      "cell_type": "code",
      "source": [
        "np.shape(first_arr)"
      ],
      "metadata": {
        "colab": {
          "base_uri": "https://localhost:8080/"
        },
        "id": "edTc_NhZcpUG",
        "outputId": "6162a8e7-56fa-40a3-828a-1724715c9edc"
      },
      "execution_count": null,
      "outputs": [
        {
          "output_type": "execute_result",
          "data": {
            "text/plain": [
              "(20,)"
            ]
          },
          "metadata": {},
          "execution_count": 40
        }
      ]
    },
    {
      "cell_type": "code",
      "source": [
        "second_arr"
      ],
      "metadata": {
        "colab": {
          "base_uri": "https://localhost:8080/"
        },
        "id": "bta_CD65d7Ki",
        "outputId": "77ce4a81-9593-4960-e0aa-cbb79bb21470"
      },
      "execution_count": null,
      "outputs": [
        {
          "output_type": "execute_result",
          "data": {
            "text/plain": [
              "array([[ 1.,  2.],\n",
              "       [ 2.,  4.],\n",
              "       [ 3.,  6.],\n",
              "       [ 4.,  8.],\n",
              "       [ 5., 10.],\n",
              "       [ 6., 12.],\n",
              "       [ 7., 14.],\n",
              "       [ 8., 16.],\n",
              "       [ 9., 18.],\n",
              "       [10., 20.]])"
            ]
          },
          "metadata": {},
          "execution_count": 44
        }
      ]
    },
    {
      "cell_type": "code",
      "source": [
        "np.shape(second_arr)"
      ],
      "metadata": {
        "colab": {
          "base_uri": "https://localhost:8080/"
        },
        "id": "sjqY-5jvdpqI",
        "outputId": "ba774a8a-a77f-47d0-c8f8-8c9c3cad0e31"
      },
      "execution_count": null,
      "outputs": [
        {
          "output_type": "execute_result",
          "data": {
            "text/plain": [
              "(10, 2)"
            ]
          },
          "metadata": {},
          "execution_count": 42
        }
      ]
    },
    {
      "cell_type": "code",
      "source": [
        "third_arr"
      ],
      "metadata": {
        "colab": {
          "base_uri": "https://localhost:8080/"
        },
        "id": "PurCFNXcePxD",
        "outputId": "f43231fa-739c-404b-fda3-7f860c2a3f8a"
      },
      "execution_count": null,
      "outputs": [
        {
          "output_type": "execute_result",
          "data": {
            "text/plain": [
              "array([[[10, 10],\n",
              "        [10, 10]],\n",
              "\n",
              "       [[10, 10],\n",
              "        [10, 10]]])"
            ]
          },
          "metadata": {},
          "execution_count": 45
        }
      ]
    },
    {
      "cell_type": "code",
      "source": [
        "np.shape(third_arr)"
      ],
      "metadata": {
        "colab": {
          "base_uri": "https://localhost:8080/"
        },
        "id": "Ssf0F74dduWz",
        "outputId": "f3287aec-2929-4103-a228-26169a51d3b1"
      },
      "execution_count": null,
      "outputs": [
        {
          "output_type": "execute_result",
          "data": {
            "text/plain": [
              "(2, 2, 2)"
            ]
          },
          "metadata": {},
          "execution_count": 43
        }
      ]
    },
    {
      "cell_type": "code",
      "source": [
        "np.size(first_arr)"
      ],
      "metadata": {
        "colab": {
          "base_uri": "https://localhost:8080/"
        },
        "id": "VQZudZ0_eUtO",
        "outputId": "0a73c654-29a5-4c80-bc72-f58cac799009"
      },
      "execution_count": null,
      "outputs": [
        {
          "output_type": "execute_result",
          "data": {
            "text/plain": [
              "20"
            ]
          },
          "metadata": {},
          "execution_count": 46
        }
      ]
    },
    {
      "cell_type": "code",
      "source": [
        "np.size(second_arr)"
      ],
      "metadata": {
        "colab": {
          "base_uri": "https://localhost:8080/"
        },
        "id": "iIRB79BUeaaL",
        "outputId": "7761c7fa-3c4b-498b-a678-8808c778ad87"
      },
      "execution_count": null,
      "outputs": [
        {
          "output_type": "execute_result",
          "data": {
            "text/plain": [
              "20"
            ]
          },
          "metadata": {},
          "execution_count": 47
        }
      ]
    },
    {
      "cell_type": "code",
      "source": [
        "np.size(third_arr)"
      ],
      "metadata": {
        "colab": {
          "base_uri": "https://localhost:8080/"
        },
        "id": "xjsy6WPsed7F",
        "outputId": "eea4885f-8662-4419-9b46-9917f369df2e"
      },
      "execution_count": null,
      "outputs": [
        {
          "output_type": "execute_result",
          "data": {
            "text/plain": [
              "8"
            ]
          },
          "metadata": {},
          "execution_count": 48
        }
      ]
    },
    {
      "cell_type": "markdown",
      "source": [
        "## Manipulate NumPy Arrays"
      ],
      "metadata": {
        "id": "bp7saM1jhKRx"
      }
    },
    {
      "cell_type": "markdown",
      "source": [
        "Adding, Removing, Sorting"
      ],
      "metadata": {
        "id": "BFkMQEWGhNd7"
      }
    },
    {
      "cell_type": "code",
      "source": [
        "first_arr = np.array([1,2,3])\n",
        "first_arr"
      ],
      "metadata": {
        "colab": {
          "base_uri": "https://localhost:8080/"
        },
        "id": "astxJ9tNhOl6",
        "outputId": "eb546e4d-aa27-47fd-cbb7-4a0a5b39c621"
      },
      "execution_count": null,
      "outputs": [
        {
          "output_type": "execute_result",
          "data": {
            "text/plain": [
              "array([1, 2, 3])"
            ]
          },
          "metadata": {},
          "execution_count": 50
        }
      ]
    },
    {
      "cell_type": "code",
      "source": [
        "np.insert(first_arr,3,4) # insert didn't do anything to original array\n",
        "first_arr"
      ],
      "metadata": {
        "colab": {
          "base_uri": "https://localhost:8080/"
        },
        "id": "LiKsZ3lchmY4",
        "outputId": "6ce60dab-e779-4020-d258-56f2aa2c9c92"
      },
      "execution_count": null,
      "outputs": [
        {
          "output_type": "execute_result",
          "data": {
            "text/plain": [
              "array([1, 2, 3])"
            ]
          },
          "metadata": {},
          "execution_count": 51
        }
      ]
    },
    {
      "cell_type": "code",
      "source": [
        "new_arr = np.insert(first_arr,3,4) # add element at an index\n",
        "new_arr"
      ],
      "metadata": {
        "colab": {
          "base_uri": "https://localhost:8080/"
        },
        "id": "NKnrOnuMh1UK",
        "outputId": "6ab28c9f-7071-4929-cdaf-90a97bdd788c"
      },
      "execution_count": null,
      "outputs": [
        {
          "output_type": "execute_result",
          "data": {
            "text/plain": [
              "array([1, 2, 3, 4])"
            ]
          },
          "metadata": {},
          "execution_count": 52
        }
      ]
    },
    {
      "cell_type": "code",
      "source": [
        "sec_arr = np.append(new_arr,7)\n",
        "sec_arr"
      ],
      "metadata": {
        "colab": {
          "base_uri": "https://localhost:8080/"
        },
        "id": "S2NgjNbBh722",
        "outputId": "dc1f8d0f-e77f-49ca-9c6c-63af4f3fbb6c"
      },
      "execution_count": null,
      "outputs": [
        {
          "output_type": "execute_result",
          "data": {
            "text/plain": [
              "array([1, 2, 3, 4, 7])"
            ]
          },
          "metadata": {},
          "execution_count": 54
        }
      ]
    },
    {
      "cell_type": "code",
      "source": [
        "del_arr = np.delete(sec_arr,3)\n",
        "del_arr"
      ],
      "metadata": {
        "colab": {
          "base_uri": "https://localhost:8080/"
        },
        "id": "GF8cpkhLiK5D",
        "outputId": "fd821be0-9845-4bbd-86d0-719a4f77b068"
      },
      "execution_count": null,
      "outputs": [
        {
          "output_type": "execute_result",
          "data": {
            "text/plain": [
              "array([1, 2, 3, 7])"
            ]
          },
          "metadata": {},
          "execution_count": 55
        }
      ]
    },
    {
      "cell_type": "code",
      "source": [
        "integers_arr = np.random.randint(0,20,20)\n",
        "integers_arr"
      ],
      "metadata": {
        "colab": {
          "base_uri": "https://localhost:8080/"
        },
        "id": "x998i4u3ikPO",
        "outputId": "a5cfeb76-c004-4be3-8bb4-9e17f16bf8ca"
      },
      "execution_count": null,
      "outputs": [
        {
          "output_type": "execute_result",
          "data": {
            "text/plain": [
              "array([19,  1,  8,  4, 13, 12,  1,  0, 19,  6, 11, 18,  5, 19,  9,  3, 10,\n",
              "        5, 11, 14])"
            ]
          },
          "metadata": {},
          "execution_count": 56
        }
      ]
    },
    {
      "cell_type": "code",
      "source": [
        "print(np.sort(integers_arr))"
      ],
      "metadata": {
        "colab": {
          "base_uri": "https://localhost:8080/"
        },
        "id": "SA9r6Lw6isnv",
        "outputId": "4cc76427-4bb9-4e3a-9ea9-a93212d4d6e2"
      },
      "execution_count": null,
      "outputs": [
        {
          "output_type": "stream",
          "name": "stdout",
          "text": [
            "[ 0  1  1  3  4  5  5  6  8  9 10 11 11 12 13 14 18 19 19 19]\n"
          ]
        }
      ]
    },
    {
      "cell_type": "code",
      "source": [
        "integers_2d_arr = np.array([[3,5,1],[4,6,1]])\n",
        "integers_2d_arr"
      ],
      "metadata": {
        "colab": {
          "base_uri": "https://localhost:8080/"
        },
        "id": "MSXo7gkii4A7",
        "outputId": "5424861a-acae-49ec-c471-0ff474501184"
      },
      "execution_count": null,
      "outputs": [
        {
          "output_type": "execute_result",
          "data": {
            "text/plain": [
              "array([[3, 5, 1],\n",
              "       [4, 6, 1]])"
            ]
          },
          "metadata": {},
          "execution_count": 59
        }
      ]
    },
    {
      "cell_type": "code",
      "source": [
        "print(np.sort(integers_2d_arr))"
      ],
      "metadata": {
        "colab": {
          "base_uri": "https://localhost:8080/"
        },
        "id": "dwbrEol9jGYb",
        "outputId": "15da732f-c619-494d-e9f0-46d35a2ceb16"
      },
      "execution_count": null,
      "outputs": [
        {
          "output_type": "stream",
          "name": "stdout",
          "text": [
            "[[1 3 5]\n",
            " [1 4 6]]\n"
          ]
        }
      ]
    },
    {
      "cell_type": "code",
      "source": [
        "colors = np.array([\"orange\",\"red\",\"green\",\"pink\"])\n",
        "print(np.sort(colors))"
      ],
      "metadata": {
        "colab": {
          "base_uri": "https://localhost:8080/"
        },
        "id": "UrSBqG9LjMTQ",
        "outputId": "7555408b-277e-4327-c876-59f9a7b42609"
      },
      "execution_count": null,
      "outputs": [
        {
          "output_type": "stream",
          "name": "stdout",
          "text": [
            "['green' 'orange' 'pink' 'red']\n"
          ]
        }
      ]
    },
    {
      "cell_type": "markdown",
      "source": [
        "Copies & Views"
      ],
      "metadata": {
        "id": "WHorhvFSjvQa"
      }
    },
    {
      "cell_type": "code",
      "source": [
        "students_id_number = np.array([111,122,344,135,161,172])\n",
        "students_id_number_reg = students_id_number\n",
        "\n",
        "print(\"id of students_id_number\",id(students_id_number))\n",
        "print(\"id of students_id_number_reg\",id(students_id_number_reg))\n",
        "\n",
        "#same ids"
      ],
      "metadata": {
        "colab": {
          "base_uri": "https://localhost:8080/"
        },
        "id": "dAEAI7H5jw-P",
        "outputId": "2546f420-6069-4a66-84da-202d0ad57887"
      },
      "execution_count": null,
      "outputs": [
        {
          "output_type": "stream",
          "name": "stdout",
          "text": [
            "id of students_id_number 138620461167312\n",
            "id of students_id_number_reg 138620461167312\n"
          ]
        }
      ]
    },
    {
      "cell_type": "code",
      "source": [
        "students_id_number_reg[2] = 333\n",
        "\n",
        "print(\"id of students_id_number\",students_id_number)\n",
        "print(\"id of students_id_number_reg\",students_id_number_reg)\n",
        "\n",
        "# changes reflected in both array. so they are the same"
      ],
      "metadata": {
        "colab": {
          "base_uri": "https://localhost:8080/"
        },
        "id": "Ov1KhKlikaXN",
        "outputId": "0adfeff9-0fe9-4795-e3b7-32f64700168b"
      },
      "execution_count": null,
      "outputs": [
        {
          "output_type": "stream",
          "name": "stdout",
          "text": [
            "id of students_id_number [111 122 333 135 161 172]\n",
            "id of students_id_number_reg [111 122 333 135 161 172]\n"
          ]
        }
      ]
    },
    {
      "cell_type": "markdown",
      "source": [
        "Copy\n"
      ],
      "metadata": {
        "id": "P-iwlkgukvvs"
      }
    },
    {
      "cell_type": "code",
      "source": [
        "students_id_number_cp = students_id_number.copy()\n",
        "print(students_id_number_cp)"
      ],
      "metadata": {
        "colab": {
          "base_uri": "https://localhost:8080/"
        },
        "id": "lUZhl3yJkxN9",
        "outputId": "129f78d5-11bc-4def-d4b6-12c78d59eb79"
      },
      "execution_count": null,
      "outputs": [
        {
          "output_type": "stream",
          "name": "stdout",
          "text": [
            "[111 122 333 135 161 172]\n"
          ]
        }
      ]
    },
    {
      "cell_type": "code",
      "source": [
        "print(students_id_number_cp == students_id_number )"
      ],
      "metadata": {
        "colab": {
          "base_uri": "https://localhost:8080/"
        },
        "id": "FTlEMQwAk6wO",
        "outputId": "711bcaac-eabf-4d63-83de-6042da5fbb56"
      },
      "execution_count": null,
      "outputs": [
        {
          "output_type": "stream",
          "name": "stdout",
          "text": [
            "[ True  True  True  True  True  True]\n"
          ]
        }
      ]
    },
    {
      "cell_type": "code",
      "source": [
        "print(\"id of students_id_number\",id(students_id_number))\n",
        "print(\"id of students_id_number_cp\",id(students_id_number_cp))"
      ],
      "metadata": {
        "colab": {
          "base_uri": "https://localhost:8080/"
        },
        "id": "D2MjnCo4lAGN",
        "outputId": "c5a8a020-dc83-4346-9a4d-b84498ca9d08"
      },
      "execution_count": null,
      "outputs": [
        {
          "output_type": "stream",
          "name": "stdout",
          "text": [
            "id of students_id_number 138620461167312\n",
            "id of students_id_number_cp 138620461163472\n"
          ]
        }
      ]
    },
    {
      "cell_type": "code",
      "source": [
        "students_id_number[0] = 100 # change made to org array\n",
        "\n",
        "print(\"org:\",students_id_number)\n",
        "print(\"copy:\",students_id_number_cp)\n",
        "\n",
        "# copy is not affected. both are diff"
      ],
      "metadata": {
        "colab": {
          "base_uri": "https://localhost:8080/"
        },
        "id": "wR52I_PllNE-",
        "outputId": "62bb71dc-e1d9-425d-d5ef-709fb8e043d8"
      },
      "execution_count": null,
      "outputs": [
        {
          "output_type": "stream",
          "name": "stdout",
          "text": [
            "org: [100 122 333 135 161 172]\n",
            "copy: [111 122 333 135 161 172]\n"
          ]
        }
      ]
    },
    {
      "cell_type": "markdown",
      "source": [
        "View"
      ],
      "metadata": {
        "id": "XnMOgKMSleq5"
      }
    },
    {
      "cell_type": "code",
      "source": [
        "students_id_number_view = students_id_number.view()\n",
        "students_id_number[0] = 2000\n",
        "\n",
        "print(\"org:\",students_id_number)\n",
        "print(\"view:\",students_id_number_view)\n",
        "\n",
        "# change in org affects view"
      ],
      "metadata": {
        "colab": {
          "base_uri": "https://localhost:8080/"
        },
        "id": "Yh57EM7LlecC",
        "outputId": "02775f60-0c52-4ac7-a4ba-211cfe8a99dc"
      },
      "execution_count": null,
      "outputs": [
        {
          "output_type": "stream",
          "name": "stdout",
          "text": [
            "org: [2000  122  333  135  161  172]\n",
            "view: [2000  122  333  135  161  172]\n"
          ]
        }
      ]
    },
    {
      "cell_type": "markdown",
      "source": [
        "Base"
      ],
      "metadata": {
        "id": "jqTLrej2mDVc"
      }
    },
    {
      "cell_type": "code",
      "source": [
        "print(\"org:\",students_id_number.base)\n",
        "print(\"view:\",students_id_number_view.base)"
      ],
      "metadata": {
        "colab": {
          "base_uri": "https://localhost:8080/"
        },
        "id": "3hHqcxUpmEIH",
        "outputId": "a0632513-6c22-436e-8103-222b6f4a3af0"
      },
      "execution_count": null,
      "outputs": [
        {
          "output_type": "stream",
          "name": "stdout",
          "text": [
            "org: None\n",
            "view: [2000  122  333  135  161  172]\n"
          ]
        }
      ]
    },
    {
      "cell_type": "markdown",
      "source": [
        "Reshape"
      ],
      "metadata": {
        "id": "DI2E_u5DoMc2"
      }
    },
    {
      "cell_type": "code",
      "source": [
        "first_arr = np.arange(1,13)\n",
        "first_arr"
      ],
      "metadata": {
        "colab": {
          "base_uri": "https://localhost:8080/"
        },
        "id": "IGXZzoePoN0W",
        "outputId": "ccf716d8-0a7e-4f83-8fa3-4d03c5aecb0b"
      },
      "execution_count": null,
      "outputs": [
        {
          "output_type": "execute_result",
          "data": {
            "text/plain": [
              "array([ 1,  2,  3,  4,  5,  6,  7,  8,  9, 10, 11, 12])"
            ]
          },
          "metadata": {},
          "execution_count": 75
        }
      ]
    },
    {
      "cell_type": "code",
      "source": [
        "sec_arr = np.reshape(first_arr,(3,4))\n",
        "sec_arr"
      ],
      "metadata": {
        "colab": {
          "base_uri": "https://localhost:8080/"
        },
        "id": "vCnAi04DoUj5",
        "outputId": "314e9625-99f1-48a7-f671-4d3db378a57c"
      },
      "execution_count": null,
      "outputs": [
        {
          "output_type": "execute_result",
          "data": {
            "text/plain": [
              "array([[ 1,  2,  3,  4],\n",
              "       [ 5,  6,  7,  8],\n",
              "       [ 9, 10, 11, 12]])"
            ]
          },
          "metadata": {},
          "execution_count": 77
        }
      ]
    },
    {
      "cell_type": "code",
      "source": [
        "sec_arr = np.reshape(first_arr,(6,2))\n",
        "sec_arr"
      ],
      "metadata": {
        "colab": {
          "base_uri": "https://localhost:8080/"
        },
        "id": "8ZKKXClXodrd",
        "outputId": "eac128d7-cb00-476f-b1b5-1a138e1298cb"
      },
      "execution_count": null,
      "outputs": [
        {
          "output_type": "execute_result",
          "data": {
            "text/plain": [
              "array([[ 1,  2],\n",
              "       [ 3,  4],\n",
              "       [ 5,  6],\n",
              "       [ 7,  8],\n",
              "       [ 9, 10],\n",
              "       [11, 12]])"
            ]
          },
          "metadata": {},
          "execution_count": 78
        }
      ]
    },
    {
      "cell_type": "code",
      "source": [
        "third_arr = np.reshape(first_arr,(4,4)) #incompatible shape\n",
        "third_arr\n",
        "\n",
        "# throws error"
      ],
      "metadata": {
        "colab": {
          "base_uri": "https://localhost:8080/",
          "height": 356
        },
        "id": "f4gL3Cmhof4V",
        "outputId": "88099019-193e-4d11-f476-a4dc690b09b5"
      },
      "execution_count": null,
      "outputs": [
        {
          "output_type": "error",
          "ename": "ValueError",
          "evalue": "cannot reshape array of size 12 into shape (4,4)",
          "traceback": [
            "\u001b[0;31m---------------------------------------------------------------------------\u001b[0m",
            "\u001b[0;31mValueError\u001b[0m                                Traceback (most recent call last)",
            "\u001b[0;32m<ipython-input-79-0829dcc200f7>\u001b[0m in \u001b[0;36m<cell line: 1>\u001b[0;34m()\u001b[0m\n\u001b[0;32m----> 1\u001b[0;31m \u001b[0mthird_arr\u001b[0m \u001b[0;34m=\u001b[0m \u001b[0mnp\u001b[0m\u001b[0;34m.\u001b[0m\u001b[0mreshape\u001b[0m\u001b[0;34m(\u001b[0m\u001b[0mfirst_arr\u001b[0m\u001b[0;34m,\u001b[0m\u001b[0;34m(\u001b[0m\u001b[0;36m4\u001b[0m\u001b[0;34m,\u001b[0m\u001b[0;36m4\u001b[0m\u001b[0;34m)\u001b[0m\u001b[0;34m)\u001b[0m \u001b[0;31m#incompatible shape\u001b[0m\u001b[0;34m\u001b[0m\u001b[0;34m\u001b[0m\u001b[0m\n\u001b[0m\u001b[1;32m      2\u001b[0m \u001b[0mthird_arr\u001b[0m\u001b[0;34m\u001b[0m\u001b[0;34m\u001b[0m\u001b[0m\n",
            "\u001b[0;32m/usr/local/lib/python3.10/dist-packages/numpy/core/overrides.py\u001b[0m in \u001b[0;36mreshape\u001b[0;34m(*args, **kwargs)\u001b[0m\n",
            "\u001b[0;32m/usr/local/lib/python3.10/dist-packages/numpy/core/fromnumeric.py\u001b[0m in \u001b[0;36mreshape\u001b[0;34m(a, newshape, order)\u001b[0m\n\u001b[1;32m    296\u001b[0m            [5, 6]])\n\u001b[1;32m    297\u001b[0m     \"\"\"\n\u001b[0;32m--> 298\u001b[0;31m     \u001b[0;32mreturn\u001b[0m \u001b[0m_wrapfunc\u001b[0m\u001b[0;34m(\u001b[0m\u001b[0ma\u001b[0m\u001b[0;34m,\u001b[0m \u001b[0;34m'reshape'\u001b[0m\u001b[0;34m,\u001b[0m \u001b[0mnewshape\u001b[0m\u001b[0;34m,\u001b[0m \u001b[0morder\u001b[0m\u001b[0;34m=\u001b[0m\u001b[0morder\u001b[0m\u001b[0;34m)\u001b[0m\u001b[0;34m\u001b[0m\u001b[0;34m\u001b[0m\u001b[0m\n\u001b[0m\u001b[1;32m    299\u001b[0m \u001b[0;34m\u001b[0m\u001b[0m\n\u001b[1;32m    300\u001b[0m \u001b[0;34m\u001b[0m\u001b[0m\n",
            "\u001b[0;32m/usr/local/lib/python3.10/dist-packages/numpy/core/fromnumeric.py\u001b[0m in \u001b[0;36m_wrapfunc\u001b[0;34m(obj, method, *args, **kwds)\u001b[0m\n\u001b[1;32m     55\u001b[0m \u001b[0;34m\u001b[0m\u001b[0m\n\u001b[1;32m     56\u001b[0m     \u001b[0;32mtry\u001b[0m\u001b[0;34m:\u001b[0m\u001b[0;34m\u001b[0m\u001b[0;34m\u001b[0m\u001b[0m\n\u001b[0;32m---> 57\u001b[0;31m         \u001b[0;32mreturn\u001b[0m \u001b[0mbound\u001b[0m\u001b[0;34m(\u001b[0m\u001b[0;34m*\u001b[0m\u001b[0margs\u001b[0m\u001b[0;34m,\u001b[0m \u001b[0;34m**\u001b[0m\u001b[0mkwds\u001b[0m\u001b[0;34m)\u001b[0m\u001b[0;34m\u001b[0m\u001b[0;34m\u001b[0m\u001b[0m\n\u001b[0m\u001b[1;32m     58\u001b[0m     \u001b[0;32mexcept\u001b[0m \u001b[0mTypeError\u001b[0m\u001b[0;34m:\u001b[0m\u001b[0;34m\u001b[0m\u001b[0;34m\u001b[0m\u001b[0m\n\u001b[1;32m     59\u001b[0m         \u001b[0;31m# A TypeError occurs if the object does have such a method in its\u001b[0m\u001b[0;34m\u001b[0m\u001b[0;34m\u001b[0m\u001b[0m\n",
            "\u001b[0;31mValueError\u001b[0m: cannot reshape array of size 12 into shape (4,4)"
          ]
        }
      ]
    },
    {
      "cell_type": "code",
      "source": [
        "fourth_arr = np.reshape(first_arr,(3,2,2))\n",
        "print(fourth_arr)"
      ],
      "metadata": {
        "colab": {
          "base_uri": "https://localhost:8080/"
        },
        "id": "4bnH8gndoqDJ",
        "outputId": "b27705d3-da57-4359-a3cd-a00b90f92705"
      },
      "execution_count": null,
      "outputs": [
        {
          "output_type": "stream",
          "name": "stdout",
          "text": [
            "[[[ 1  2]\n",
            "  [ 3  4]]\n",
            "\n",
            " [[ 5  6]\n",
            "  [ 7  8]]\n",
            "\n",
            " [[ 9 10]\n",
            "  [11 12]]]\n"
          ]
        }
      ]
    },
    {
      "cell_type": "code",
      "source": [
        "sixth_arr_flat = np.reshape(fourth_arr, -1) # convert to 1D\n",
        "sixth_arr_flat"
      ],
      "metadata": {
        "colab": {
          "base_uri": "https://localhost:8080/"
        },
        "id": "R2vZIyE8pDMX",
        "outputId": "a19538b9-2a3d-4eaf-e15a-8e96394870e3"
      },
      "execution_count": null,
      "outputs": [
        {
          "output_type": "execute_result",
          "data": {
            "text/plain": [
              "array([ 1,  2,  3,  4,  5,  6,  7,  8,  9, 10, 11, 12])"
            ]
          },
          "metadata": {},
          "execution_count": 81
        }
      ]
    },
    {
      "cell_type": "markdown",
      "source": [
        "## Joining and splitting arrays"
      ],
      "metadata": {
        "id": "HXcZ1YYDtWYm"
      }
    },
    {
      "cell_type": "code",
      "source": [
        "first_arr = np.arange(1,11)\n",
        "sec_arr = np.arange(11,21)\n",
        "\n",
        "con_arr = np.concatenate((first_arr,sec_arr)) # join two 1D arrays\n",
        "con_arr"
      ],
      "metadata": {
        "colab": {
          "base_uri": "https://localhost:8080/"
        },
        "id": "mkxd6vBitYRe",
        "outputId": "8524e17b-e81e-4927-e10a-da6ffa417e7a"
      },
      "execution_count": null,
      "outputs": [
        {
          "output_type": "execute_result",
          "data": {
            "text/plain": [
              "array([ 1,  2,  3,  4,  5,  6,  7,  8,  9, 10, 11, 12, 13, 14, 15, 16, 17,\n",
              "       18, 19, 20])"
            ]
          },
          "metadata": {},
          "execution_count": 83
        }
      ]
    },
    {
      "cell_type": "code",
      "source": [
        "first_arr = np.array([[1,4,6],[11,2,3]])\n",
        "sec_arr = np.array([[4,14,6],[11,25,32]])\n",
        "\n",
        "con_arr = np.concatenate((first_arr,sec_arr), axis=1) # join two 2-D arrays\n",
        "con_arr"
      ],
      "metadata": {
        "colab": {
          "base_uri": "https://localhost:8080/"
        },
        "id": "pFrkKUE4trer",
        "outputId": "c66e294c-9543-4d51-e372-138fa616aa65"
      },
      "execution_count": null,
      "outputs": [
        {
          "output_type": "execute_result",
          "data": {
            "text/plain": [
              "array([[ 1,  4,  6,  4, 14,  6],\n",
              "       [11,  2,  3, 11, 25, 32]])"
            ]
          },
          "metadata": {},
          "execution_count": 86
        }
      ]
    },
    {
      "cell_type": "code",
      "source": [
        "fifth_arr = np.arange(1,13)\n",
        "fifth_arr"
      ],
      "metadata": {
        "colab": {
          "base_uri": "https://localhost:8080/"
        },
        "id": "HkZs8KolvJLA",
        "outputId": "aec6c461-9a3c-435d-b39f-30fe5c196a36"
      },
      "execution_count": null,
      "outputs": [
        {
          "output_type": "execute_result",
          "data": {
            "text/plain": [
              "array([ 1,  2,  3,  4,  5,  6,  7,  8,  9, 10, 11, 12])"
            ]
          },
          "metadata": {},
          "execution_count": 87
        }
      ]
    },
    {
      "cell_type": "code",
      "source": [
        "sp_arr = np.array_split(fifth_arr,4)\n",
        "sp_arr"
      ],
      "metadata": {
        "colab": {
          "base_uri": "https://localhost:8080/"
        },
        "id": "SqNIs4tZvOU9",
        "outputId": "35d4b44a-acf2-4ad6-f865-dcf7b84fdb6d"
      },
      "execution_count": null,
      "outputs": [
        {
          "output_type": "execute_result",
          "data": {
            "text/plain": [
              "[array([1, 2, 3]), array([4, 5, 6]), array([7, 8, 9]), array([10, 11, 12])]"
            ]
          },
          "metadata": {},
          "execution_count": 88
        }
      ]
    },
    {
      "cell_type": "markdown",
      "source": [
        "## Arithmetic operations and functions"
      ],
      "metadata": {
        "id": "tLFQRzoC42gX"
      }
    },
    {
      "cell_type": "code",
      "source": [
        "a+b"
      ],
      "metadata": {
        "colab": {
          "base_uri": "https://localhost:8080/"
        },
        "id": "6Jz_oHbq5EVo",
        "outputId": "d4e2eddb-8f44-4e98-d16d-6bcf4bb1aeac"
      },
      "execution_count": null,
      "outputs": [
        {
          "output_type": "execute_result",
          "data": {
            "text/plain": [
              "array([22, 24, 26, 28, 30, 32, 34, 36, 38, 40])"
            ]
          },
          "metadata": {},
          "execution_count": 90
        }
      ]
    },
    {
      "cell_type": "code",
      "source": [
        "a-b"
      ],
      "metadata": {
        "colab": {
          "base_uri": "https://localhost:8080/"
        },
        "id": "tJAP1JtI5FC_",
        "outputId": "c54a07ff-1ee4-4db5-b659-98386b4261f0"
      },
      "execution_count": null,
      "outputs": [
        {
          "output_type": "execute_result",
          "data": {
            "text/plain": [
              "array([-20, -20, -20, -20, -20, -20, -20, -20, -20, -20])"
            ]
          },
          "metadata": {},
          "execution_count": 91
        }
      ]
    },
    {
      "cell_type": "code",
      "source": [
        "b-a"
      ],
      "metadata": {
        "colab": {
          "base_uri": "https://localhost:8080/"
        },
        "id": "cxIapfdW5F0x",
        "outputId": "1a3719c8-373d-40c0-b5b2-851fb49b73e9"
      },
      "execution_count": null,
      "outputs": [
        {
          "output_type": "execute_result",
          "data": {
            "text/plain": [
              "array([20, 20, 20, 20, 20, 20, 20, 20, 20, 20])"
            ]
          },
          "metadata": {},
          "execution_count": 92
        }
      ]
    },
    {
      "cell_type": "code",
      "source": [
        "b/a"
      ],
      "metadata": {
        "colab": {
          "base_uri": "https://localhost:8080/"
        },
        "id": "qkQBZ5ER5Hoc",
        "outputId": "04c2c655-7ffd-4ff2-8f4b-05d0a7d368d5"
      },
      "execution_count": null,
      "outputs": [
        {
          "output_type": "execute_result",
          "data": {
            "text/plain": [
              "array([21.        , 11.        ,  7.66666667,  6.        ,  5.        ,\n",
              "        4.33333333,  3.85714286,  3.5       ,  3.22222222,  3.        ])"
            ]
          },
          "metadata": {},
          "execution_count": 93
        }
      ]
    },
    {
      "cell_type": "code",
      "source": [
        "a**b"
      ],
      "metadata": {
        "colab": {
          "base_uri": "https://localhost:8080/"
        },
        "id": "lgRdek305Tj9",
        "outputId": "16735f19-ee5f-4940-9bcb-cf46f1e552d6"
      },
      "execution_count": null,
      "outputs": [
        {
          "output_type": "execute_result",
          "data": {
            "text/plain": [
              "array([                  1,             4194304,         94143178827,\n",
              "           281474976710656,  298023223876953125, 4561031516192243712,\n",
              "       5059972980857283351,                   0, 5756027422282277481,\n",
              "       5076944270305263616])"
            ]
          },
          "metadata": {},
          "execution_count": 94
        }
      ]
    },
    {
      "cell_type": "markdown",
      "source": [
        "## Aggregate Functions"
      ],
      "metadata": {
        "id": "HNkKz-LEAk0Z"
      }
    },
    {
      "cell_type": "code",
      "source": [
        "np.average(a)"
      ],
      "metadata": {
        "colab": {
          "base_uri": "https://localhost:8080/"
        },
        "id": "TGbaoYgL5Z5m",
        "outputId": "12590d9c-6ee2-4ffb-d374-0cc686e3d97e"
      },
      "execution_count": null,
      "outputs": [
        {
          "output_type": "execute_result",
          "data": {
            "text/plain": [
              "5.5"
            ]
          },
          "metadata": {},
          "execution_count": 95
        }
      ]
    },
    {
      "cell_type": "code",
      "source": [
        "np.std(b)"
      ],
      "metadata": {
        "colab": {
          "base_uri": "https://localhost:8080/"
        },
        "id": "9VIxcJ9yAsJu",
        "outputId": "d426c811-260c-40aa-db21-75408e67266a"
      },
      "execution_count": null,
      "outputs": [
        {
          "output_type": "execute_result",
          "data": {
            "text/plain": [
              "2.8722813232690143"
            ]
          },
          "metadata": {},
          "execution_count": 96
        }
      ]
    },
    {
      "cell_type": "markdown",
      "source": [
        "## Get unique items and counts"
      ],
      "metadata": {
        "id": "xb1bn-d4A8ve"
      }
    },
    {
      "cell_type": "code",
      "source": [
        "a = np.array([1,4,3,1,4,5])\n",
        "np.unique(a)"
      ],
      "metadata": {
        "colab": {
          "base_uri": "https://localhost:8080/"
        },
        "id": "hJn1LnP7A_2O",
        "outputId": "647631d7-6c6b-4961-eae2-70cbb84055a6"
      },
      "execution_count": null,
      "outputs": [
        {
          "output_type": "execute_result",
          "data": {
            "text/plain": [
              "array([1, 3, 4, 5])"
            ]
          },
          "metadata": {},
          "execution_count": 97
        }
      ]
    },
    {
      "cell_type": "markdown",
      "source": [
        "Returns tuple of 2 arrays"
      ],
      "metadata": {
        "id": "U5GSQJMHBqZ7"
      }
    },
    {
      "cell_type": "code",
      "source": [
        "np.unique(a, return_index=True) # 2nd array contains index positions of first array"
      ],
      "metadata": {
        "colab": {
          "base_uri": "https://localhost:8080/"
        },
        "id": "PhPUL6iXBQva",
        "outputId": "329d7780-f87d-4a81-85cf-42a532dd69e4"
      },
      "execution_count": null,
      "outputs": [
        {
          "output_type": "execute_result",
          "data": {
            "text/plain": [
              "(array([1, 3, 4, 5]), array([0, 2, 1, 5]))"
            ]
          },
          "metadata": {},
          "execution_count": 99
        }
      ]
    },
    {
      "cell_type": "markdown",
      "source": [
        "To find frequency of each element"
      ],
      "metadata": {
        "id": "eSGNXKxfBwM0"
      }
    },
    {
      "cell_type": "code",
      "source": [
        "np.unique(a, return_counts=True) # 2nd array contains freq of first array"
      ],
      "metadata": {
        "colab": {
          "base_uri": "https://localhost:8080/"
        },
        "id": "4QpSwltQBnAX",
        "outputId": "676ca5fe-33d7-4ecc-e972-c2b2026ab73d"
      },
      "execution_count": null,
      "outputs": [
        {
          "output_type": "execute_result",
          "data": {
            "text/plain": [
              "(array([1, 3, 4, 5]), array([2, 1, 2, 1]))"
            ]
          },
          "metadata": {},
          "execution_count": 102
        }
      ]
    }
  ]
}