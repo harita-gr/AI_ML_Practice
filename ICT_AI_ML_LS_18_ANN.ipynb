{
  "nbformat": 4,
  "nbformat_minor": 0,
  "metadata": {
    "colab": {
      "provenance": [],
      "authorship_tag": "ABX9TyPUqUlT5tx94o13/uhYj0S5",
      "include_colab_link": true
    },
    "kernelspec": {
      "name": "python3",
      "display_name": "Python 3"
    },
    "language_info": {
      "name": "python"
    }
  },
  "cells": [
    {
      "cell_type": "markdown",
      "metadata": {
        "id": "view-in-github",
        "colab_type": "text"
      },
      "source": [
        "<a href=\"https://colab.research.google.com/github/harita-gr/AI_ML_Practice/blob/main/ICT_AI_ML_LS_18_ANN.ipynb\" target=\"_parent\"><img src=\"https://colab.research.google.com/assets/colab-badge.svg\" alt=\"Open In Colab\"/></a>"
      ]
    },
    {
      "cell_type": "code",
      "execution_count": 1,
      "metadata": {
        "id": "OFwrbcUo4HU_"
      },
      "outputs": [],
      "source": [
        "import pandas as pd"
      ]
    },
    {
      "cell_type": "code",
      "source": [
        "data = pd.read_csv(\"/content/Iris.csv\")"
      ],
      "metadata": {
        "id": "NDUzWKBN4fsp"
      },
      "execution_count": 2,
      "outputs": []
    },
    {
      "cell_type": "code",
      "source": [
        "data.head()"
      ],
      "metadata": {
        "colab": {
          "base_uri": "https://localhost:8080/",
          "height": 206
        },
        "id": "7rJoHq4v4oFd",
        "outputId": "f601bfd6-dd97-4812-9154-63add2f16a67"
      },
      "execution_count": 3,
      "outputs": [
        {
          "output_type": "execute_result",
          "data": {
            "text/plain": [
              "   Id  SepalLengthCm  SepalWidthCm  PetalLengthCm  PetalWidthCm  Species\n",
              "0   1            5.1           3.5            1.4           0.2        0\n",
              "1   2            4.9           3.0            1.4           0.2        0\n",
              "2   3            4.7           3.2            1.3           0.2        0\n",
              "3   4            4.6           3.1            1.5           0.2        0\n",
              "4   5            5.0           3.6            1.4           0.2        0"
            ],
            "text/html": [
              "\n",
              "  <div id=\"df-9ffaf0af-3038-4934-8f09-e7cc16a8a1a5\" class=\"colab-df-container\">\n",
              "    <div>\n",
              "<style scoped>\n",
              "    .dataframe tbody tr th:only-of-type {\n",
              "        vertical-align: middle;\n",
              "    }\n",
              "\n",
              "    .dataframe tbody tr th {\n",
              "        vertical-align: top;\n",
              "    }\n",
              "\n",
              "    .dataframe thead th {\n",
              "        text-align: right;\n",
              "    }\n",
              "</style>\n",
              "<table border=\"1\" class=\"dataframe\">\n",
              "  <thead>\n",
              "    <tr style=\"text-align: right;\">\n",
              "      <th></th>\n",
              "      <th>Id</th>\n",
              "      <th>SepalLengthCm</th>\n",
              "      <th>SepalWidthCm</th>\n",
              "      <th>PetalLengthCm</th>\n",
              "      <th>PetalWidthCm</th>\n",
              "      <th>Species</th>\n",
              "    </tr>\n",
              "  </thead>\n",
              "  <tbody>\n",
              "    <tr>\n",
              "      <th>0</th>\n",
              "      <td>1</td>\n",
              "      <td>5.1</td>\n",
              "      <td>3.5</td>\n",
              "      <td>1.4</td>\n",
              "      <td>0.2</td>\n",
              "      <td>0</td>\n",
              "    </tr>\n",
              "    <tr>\n",
              "      <th>1</th>\n",
              "      <td>2</td>\n",
              "      <td>4.9</td>\n",
              "      <td>3.0</td>\n",
              "      <td>1.4</td>\n",
              "      <td>0.2</td>\n",
              "      <td>0</td>\n",
              "    </tr>\n",
              "    <tr>\n",
              "      <th>2</th>\n",
              "      <td>3</td>\n",
              "      <td>4.7</td>\n",
              "      <td>3.2</td>\n",
              "      <td>1.3</td>\n",
              "      <td>0.2</td>\n",
              "      <td>0</td>\n",
              "    </tr>\n",
              "    <tr>\n",
              "      <th>3</th>\n",
              "      <td>4</td>\n",
              "      <td>4.6</td>\n",
              "      <td>3.1</td>\n",
              "      <td>1.5</td>\n",
              "      <td>0.2</td>\n",
              "      <td>0</td>\n",
              "    </tr>\n",
              "    <tr>\n",
              "      <th>4</th>\n",
              "      <td>5</td>\n",
              "      <td>5.0</td>\n",
              "      <td>3.6</td>\n",
              "      <td>1.4</td>\n",
              "      <td>0.2</td>\n",
              "      <td>0</td>\n",
              "    </tr>\n",
              "  </tbody>\n",
              "</table>\n",
              "</div>\n",
              "    <div class=\"colab-df-buttons\">\n",
              "\n",
              "  <div class=\"colab-df-container\">\n",
              "    <button class=\"colab-df-convert\" onclick=\"convertToInteractive('df-9ffaf0af-3038-4934-8f09-e7cc16a8a1a5')\"\n",
              "            title=\"Convert this dataframe to an interactive table.\"\n",
              "            style=\"display:none;\">\n",
              "\n",
              "  <svg xmlns=\"http://www.w3.org/2000/svg\" height=\"24px\" viewBox=\"0 -960 960 960\">\n",
              "    <path d=\"M120-120v-720h720v720H120Zm60-500h600v-160H180v160Zm220 220h160v-160H400v160Zm0 220h160v-160H400v160ZM180-400h160v-160H180v160Zm440 0h160v-160H620v160ZM180-180h160v-160H180v160Zm440 0h160v-160H620v160Z\"/>\n",
              "  </svg>\n",
              "    </button>\n",
              "\n",
              "  <style>\n",
              "    .colab-df-container {\n",
              "      display:flex;\n",
              "      gap: 12px;\n",
              "    }\n",
              "\n",
              "    .colab-df-convert {\n",
              "      background-color: #E8F0FE;\n",
              "      border: none;\n",
              "      border-radius: 50%;\n",
              "      cursor: pointer;\n",
              "      display: none;\n",
              "      fill: #1967D2;\n",
              "      height: 32px;\n",
              "      padding: 0 0 0 0;\n",
              "      width: 32px;\n",
              "    }\n",
              "\n",
              "    .colab-df-convert:hover {\n",
              "      background-color: #E2EBFA;\n",
              "      box-shadow: 0px 1px 2px rgba(60, 64, 67, 0.3), 0px 1px 3px 1px rgba(60, 64, 67, 0.15);\n",
              "      fill: #174EA6;\n",
              "    }\n",
              "\n",
              "    .colab-df-buttons div {\n",
              "      margin-bottom: 4px;\n",
              "    }\n",
              "\n",
              "    [theme=dark] .colab-df-convert {\n",
              "      background-color: #3B4455;\n",
              "      fill: #D2E3FC;\n",
              "    }\n",
              "\n",
              "    [theme=dark] .colab-df-convert:hover {\n",
              "      background-color: #434B5C;\n",
              "      box-shadow: 0px 1px 3px 1px rgba(0, 0, 0, 0.15);\n",
              "      filter: drop-shadow(0px 1px 2px rgba(0, 0, 0, 0.3));\n",
              "      fill: #FFFFFF;\n",
              "    }\n",
              "  </style>\n",
              "\n",
              "    <script>\n",
              "      const buttonEl =\n",
              "        document.querySelector('#df-9ffaf0af-3038-4934-8f09-e7cc16a8a1a5 button.colab-df-convert');\n",
              "      buttonEl.style.display =\n",
              "        google.colab.kernel.accessAllowed ? 'block' : 'none';\n",
              "\n",
              "      async function convertToInteractive(key) {\n",
              "        const element = document.querySelector('#df-9ffaf0af-3038-4934-8f09-e7cc16a8a1a5');\n",
              "        const dataTable =\n",
              "          await google.colab.kernel.invokeFunction('convertToInteractive',\n",
              "                                                    [key], {});\n",
              "        if (!dataTable) return;\n",
              "\n",
              "        const docLinkHtml = 'Like what you see? Visit the ' +\n",
              "          '<a target=\"_blank\" href=https://colab.research.google.com/notebooks/data_table.ipynb>data table notebook</a>'\n",
              "          + ' to learn more about interactive tables.';\n",
              "        element.innerHTML = '';\n",
              "        dataTable['output_type'] = 'display_data';\n",
              "        await google.colab.output.renderOutput(dataTable, element);\n",
              "        const docLink = document.createElement('div');\n",
              "        docLink.innerHTML = docLinkHtml;\n",
              "        element.appendChild(docLink);\n",
              "      }\n",
              "    </script>\n",
              "  </div>\n",
              "\n",
              "\n",
              "<div id=\"df-3b351b07-af8a-4977-b4e2-31b1d1f26af1\">\n",
              "  <button class=\"colab-df-quickchart\" onclick=\"quickchart('df-3b351b07-af8a-4977-b4e2-31b1d1f26af1')\"\n",
              "            title=\"Suggest charts\"\n",
              "            style=\"display:none;\">\n",
              "\n",
              "<svg xmlns=\"http://www.w3.org/2000/svg\" height=\"24px\"viewBox=\"0 0 24 24\"\n",
              "     width=\"24px\">\n",
              "    <g>\n",
              "        <path d=\"M19 3H5c-1.1 0-2 .9-2 2v14c0 1.1.9 2 2 2h14c1.1 0 2-.9 2-2V5c0-1.1-.9-2-2-2zM9 17H7v-7h2v7zm4 0h-2V7h2v10zm4 0h-2v-4h2v4z\"/>\n",
              "    </g>\n",
              "</svg>\n",
              "  </button>\n",
              "\n",
              "<style>\n",
              "  .colab-df-quickchart {\n",
              "      --bg-color: #E8F0FE;\n",
              "      --fill-color: #1967D2;\n",
              "      --hover-bg-color: #E2EBFA;\n",
              "      --hover-fill-color: #174EA6;\n",
              "      --disabled-fill-color: #AAA;\n",
              "      --disabled-bg-color: #DDD;\n",
              "  }\n",
              "\n",
              "  [theme=dark] .colab-df-quickchart {\n",
              "      --bg-color: #3B4455;\n",
              "      --fill-color: #D2E3FC;\n",
              "      --hover-bg-color: #434B5C;\n",
              "      --hover-fill-color: #FFFFFF;\n",
              "      --disabled-bg-color: #3B4455;\n",
              "      --disabled-fill-color: #666;\n",
              "  }\n",
              "\n",
              "  .colab-df-quickchart {\n",
              "    background-color: var(--bg-color);\n",
              "    border: none;\n",
              "    border-radius: 50%;\n",
              "    cursor: pointer;\n",
              "    display: none;\n",
              "    fill: var(--fill-color);\n",
              "    height: 32px;\n",
              "    padding: 0;\n",
              "    width: 32px;\n",
              "  }\n",
              "\n",
              "  .colab-df-quickchart:hover {\n",
              "    background-color: var(--hover-bg-color);\n",
              "    box-shadow: 0 1px 2px rgba(60, 64, 67, 0.3), 0 1px 3px 1px rgba(60, 64, 67, 0.15);\n",
              "    fill: var(--button-hover-fill-color);\n",
              "  }\n",
              "\n",
              "  .colab-df-quickchart-complete:disabled,\n",
              "  .colab-df-quickchart-complete:disabled:hover {\n",
              "    background-color: var(--disabled-bg-color);\n",
              "    fill: var(--disabled-fill-color);\n",
              "    box-shadow: none;\n",
              "  }\n",
              "\n",
              "  .colab-df-spinner {\n",
              "    border: 2px solid var(--fill-color);\n",
              "    border-color: transparent;\n",
              "    border-bottom-color: var(--fill-color);\n",
              "    animation:\n",
              "      spin 1s steps(1) infinite;\n",
              "  }\n",
              "\n",
              "  @keyframes spin {\n",
              "    0% {\n",
              "      border-color: transparent;\n",
              "      border-bottom-color: var(--fill-color);\n",
              "      border-left-color: var(--fill-color);\n",
              "    }\n",
              "    20% {\n",
              "      border-color: transparent;\n",
              "      border-left-color: var(--fill-color);\n",
              "      border-top-color: var(--fill-color);\n",
              "    }\n",
              "    30% {\n",
              "      border-color: transparent;\n",
              "      border-left-color: var(--fill-color);\n",
              "      border-top-color: var(--fill-color);\n",
              "      border-right-color: var(--fill-color);\n",
              "    }\n",
              "    40% {\n",
              "      border-color: transparent;\n",
              "      border-right-color: var(--fill-color);\n",
              "      border-top-color: var(--fill-color);\n",
              "    }\n",
              "    60% {\n",
              "      border-color: transparent;\n",
              "      border-right-color: var(--fill-color);\n",
              "    }\n",
              "    80% {\n",
              "      border-color: transparent;\n",
              "      border-right-color: var(--fill-color);\n",
              "      border-bottom-color: var(--fill-color);\n",
              "    }\n",
              "    90% {\n",
              "      border-color: transparent;\n",
              "      border-bottom-color: var(--fill-color);\n",
              "    }\n",
              "  }\n",
              "</style>\n",
              "\n",
              "  <script>\n",
              "    async function quickchart(key) {\n",
              "      const quickchartButtonEl =\n",
              "        document.querySelector('#' + key + ' button');\n",
              "      quickchartButtonEl.disabled = true;  // To prevent multiple clicks.\n",
              "      quickchartButtonEl.classList.add('colab-df-spinner');\n",
              "      try {\n",
              "        const charts = await google.colab.kernel.invokeFunction(\n",
              "            'suggestCharts', [key], {});\n",
              "      } catch (error) {\n",
              "        console.error('Error during call to suggestCharts:', error);\n",
              "      }\n",
              "      quickchartButtonEl.classList.remove('colab-df-spinner');\n",
              "      quickchartButtonEl.classList.add('colab-df-quickchart-complete');\n",
              "    }\n",
              "    (() => {\n",
              "      let quickchartButtonEl =\n",
              "        document.querySelector('#df-3b351b07-af8a-4977-b4e2-31b1d1f26af1 button');\n",
              "      quickchartButtonEl.style.display =\n",
              "        google.colab.kernel.accessAllowed ? 'block' : 'none';\n",
              "    })();\n",
              "  </script>\n",
              "</div>\n",
              "\n",
              "    </div>\n",
              "  </div>\n"
            ],
            "application/vnd.google.colaboratory.intrinsic+json": {
              "type": "dataframe",
              "variable_name": "data",
              "summary": "{\n  \"name\": \"data\",\n  \"rows\": 100,\n  \"fields\": [\n    {\n      \"column\": \"Id\",\n      \"properties\": {\n        \"dtype\": \"number\",\n        \"std\": 29,\n        \"min\": 1,\n        \"max\": 100,\n        \"num_unique_values\": 100,\n        \"samples\": [\n          84,\n          54,\n          71\n        ],\n        \"semantic_type\": \"\",\n        \"description\": \"\"\n      }\n    },\n    {\n      \"column\": \"SepalLengthCm\",\n      \"properties\": {\n        \"dtype\": \"number\",\n        \"std\": 0.6416983463254116,\n        \"min\": 4.3,\n        \"max\": 7.0,\n        \"num_unique_values\": 28,\n        \"samples\": [\n          5.8,\n          6.7,\n          4.3\n        ],\n        \"semantic_type\": \"\",\n        \"description\": \"\"\n      }\n    },\n    {\n      \"column\": \"SepalWidthCm\",\n      \"properties\": {\n        \"dtype\": \"number\",\n        \"std\": 0.4760570375809006,\n        \"min\": 2.0,\n        \"max\": 4.4,\n        \"num_unique_values\": 23,\n        \"samples\": [\n          2.3,\n          4.0,\n          3.5\n        ],\n        \"semantic_type\": \"\",\n        \"description\": \"\"\n      }\n    },\n    {\n      \"column\": \"PetalLengthCm\",\n      \"properties\": {\n        \"dtype\": \"number\",\n        \"std\": 1.4485645977792616,\n        \"min\": 1.0,\n        \"max\": 5.1,\n        \"num_unique_values\": 28,\n        \"samples\": [\n          4.7,\n          3.7,\n          1.9\n        ],\n        \"semantic_type\": \"\",\n        \"description\": \"\"\n      }\n    },\n    {\n      \"column\": \"PetalWidthCm\",\n      \"properties\": {\n        \"dtype\": \"number\",\n        \"std\": 0.5662877521029553,\n        \"min\": 0.1,\n        \"max\": 1.8,\n        \"num_unique_values\": 15,\n        \"samples\": [\n          1.6,\n          1.1,\n          0.2\n        ],\n        \"semantic_type\": \"\",\n        \"description\": \"\"\n      }\n    },\n    {\n      \"column\": \"Species\",\n      \"properties\": {\n        \"dtype\": \"number\",\n        \"std\": 0,\n        \"min\": 0,\n        \"max\": 1,\n        \"num_unique_values\": 2,\n        \"samples\": [\n          1,\n          0\n        ],\n        \"semantic_type\": \"\",\n        \"description\": \"\"\n      }\n    }\n  ]\n}"
            }
          },
          "metadata": {},
          "execution_count": 3
        }
      ]
    },
    {
      "cell_type": "code",
      "source": [
        "data.shape"
      ],
      "metadata": {
        "colab": {
          "base_uri": "https://localhost:8080/"
        },
        "id": "29MaVUW64pNv",
        "outputId": "fff3c7bb-3e99-480f-e696-e321290e1d6c"
      },
      "execution_count": 4,
      "outputs": [
        {
          "output_type": "execute_result",
          "data": {
            "text/plain": [
              "(100, 6)"
            ]
          },
          "metadata": {},
          "execution_count": 4
        }
      ]
    },
    {
      "cell_type": "code",
      "source": [
        "data['Species'].value_counts()"
      ],
      "metadata": {
        "colab": {
          "base_uri": "https://localhost:8080/"
        },
        "id": "1BXbOe3C4qWF",
        "outputId": "6104fd7c-677e-47de-ff31-76f34542f06d"
      },
      "execution_count": 5,
      "outputs": [
        {
          "output_type": "execute_result",
          "data": {
            "text/plain": [
              "0    50\n",
              "1    50\n",
              "Name: Species, dtype: int64"
            ]
          },
          "metadata": {},
          "execution_count": 5
        }
      ]
    },
    {
      "cell_type": "markdown",
      "source": [
        "It is a binary classification problem - 0 & 1"
      ],
      "metadata": {
        "id": "fZfS0QHM40CV"
      }
    },
    {
      "cell_type": "code",
      "source": [
        "data = data.drop(\"Id\", axis=1)"
      ],
      "metadata": {
        "id": "CD9k6ckM4wgq"
      },
      "execution_count": 7,
      "outputs": []
    },
    {
      "cell_type": "markdown",
      "source": [
        "For training the Model, split the data\n",
        "\n",
        "Note: This is a clean data. So skipping doing pre-processing."
      ],
      "metadata": {
        "id": "SmE9FlT45KdF"
      }
    },
    {
      "cell_type": "code",
      "source": [
        "x = data.drop('Species', axis=1)\n",
        "y = data['Species']"
      ],
      "metadata": {
        "id": "EgREzfpa46bq"
      },
      "execution_count": 8,
      "outputs": []
    },
    {
      "cell_type": "code",
      "source": [
        "from sklearn.model_selection import train_test_split\n",
        "x_train,x_test,y_train,y_test = train_test_split(x,y,test_size=0.2,random_state=42)"
      ],
      "metadata": {
        "id": "nSsGmO2F5PU9"
      },
      "execution_count": 9,
      "outputs": []
    },
    {
      "cell_type": "code",
      "source": [
        "from keras.models import Sequential #Seq model\n",
        "from keras.layers import Dense #for creating hidden layers & other layers after input\n"
      ],
      "metadata": {
        "id": "haGtk6OH5ePQ"
      },
      "execution_count": 10,
      "outputs": []
    },
    {
      "cell_type": "markdown",
      "source": [
        "Creating Model"
      ],
      "metadata": {
        "id": "T4NLXYpP6_7-"
      }
    },
    {
      "cell_type": "code",
      "source": [
        "model = Sequential() #contains input layers\n",
        "#adding layers to model - 10 neurons\n",
        "model.add(Dense(10,activation=\"relu\"))\n",
        "#output layer - 1 neuron, activation fn - sigmoid\n",
        "model.add(Dense(1,activation=\"sigmoid\"))"
      ],
      "metadata": {
        "id": "7Px-FwU56_s1"
      },
      "execution_count": 11,
      "outputs": []
    },
    {
      "cell_type": "code",
      "source": [
        "#since it is a binary classfication prob - use binary cross entropy as loss fn\n",
        "model.compile(loss = \"binary_crossentropy\", optimizer = \"adam\", metrics = ['accuracy'])"
      ],
      "metadata": {
        "id": "RYcYq8P16_Mr"
      },
      "execution_count": 12,
      "outputs": []
    },
    {
      "cell_type": "code",
      "source": [
        "history = model.fit(x_train, y_train, epochs = 100)\n",
        "#epochs - no of times it will iterate (eg:if 80 data points, each will run 100 points)\n",
        "#for larger data set, give epoch as a smaller number."
      ],
      "metadata": {
        "colab": {
          "base_uri": "https://localhost:8080/"
        },
        "id": "L2fmcv4V8l52",
        "outputId": "64c018d4-bf65-4c67-abd4-c57fbb3ee0ab"
      },
      "execution_count": 13,
      "outputs": [
        {
          "output_type": "stream",
          "name": "stdout",
          "text": [
            "Epoch 1/100\n",
            "3/3 [==============================] - 2s 8ms/step - loss: 1.4559 - accuracy: 0.5250\n",
            "Epoch 2/100\n",
            "3/3 [==============================] - 0s 6ms/step - loss: 1.4154 - accuracy: 0.5250\n",
            "Epoch 3/100\n",
            "3/3 [==============================] - 0s 5ms/step - loss: 1.3733 - accuracy: 0.5250\n",
            "Epoch 4/100\n",
            "3/3 [==============================] - 0s 5ms/step - loss: 1.3374 - accuracy: 0.5250\n",
            "Epoch 5/100\n",
            "3/3 [==============================] - 0s 6ms/step - loss: 1.2982 - accuracy: 0.5250\n",
            "Epoch 6/100\n",
            "3/3 [==============================] - 0s 6ms/step - loss: 1.2597 - accuracy: 0.5250\n",
            "Epoch 7/100\n",
            "3/3 [==============================] - 0s 6ms/step - loss: 1.2261 - accuracy: 0.5250\n",
            "Epoch 8/100\n",
            "3/3 [==============================] - 0s 6ms/step - loss: 1.1894 - accuracy: 0.5250\n",
            "Epoch 9/100\n",
            "3/3 [==============================] - 0s 5ms/step - loss: 1.1543 - accuracy: 0.5250\n",
            "Epoch 10/100\n",
            "3/3 [==============================] - 0s 6ms/step - loss: 1.1210 - accuracy: 0.5250\n",
            "Epoch 11/100\n",
            "3/3 [==============================] - 0s 5ms/step - loss: 1.0862 - accuracy: 0.5250\n",
            "Epoch 12/100\n",
            "3/3 [==============================] - 0s 5ms/step - loss: 1.0537 - accuracy: 0.5250\n",
            "Epoch 13/100\n",
            "3/3 [==============================] - 0s 8ms/step - loss: 1.0211 - accuracy: 0.5250\n",
            "Epoch 14/100\n",
            "3/3 [==============================] - 0s 5ms/step - loss: 0.9884 - accuracy: 0.5250\n",
            "Epoch 15/100\n",
            "3/3 [==============================] - 0s 5ms/step - loss: 0.9559 - accuracy: 0.5250\n",
            "Epoch 16/100\n",
            "3/3 [==============================] - 0s 5ms/step - loss: 0.9268 - accuracy: 0.5250\n",
            "Epoch 17/100\n",
            "3/3 [==============================] - 0s 6ms/step - loss: 0.8972 - accuracy: 0.5250\n",
            "Epoch 18/100\n",
            "3/3 [==============================] - 0s 5ms/step - loss: 0.8699 - accuracy: 0.5250\n",
            "Epoch 19/100\n",
            "3/3 [==============================] - 0s 5ms/step - loss: 0.8411 - accuracy: 0.5250\n",
            "Epoch 20/100\n",
            "3/3 [==============================] - 0s 6ms/step - loss: 0.8160 - accuracy: 0.5250\n",
            "Epoch 21/100\n",
            "3/3 [==============================] - 0s 5ms/step - loss: 0.7909 - accuracy: 0.5250\n",
            "Epoch 22/100\n",
            "3/3 [==============================] - 0s 5ms/step - loss: 0.7674 - accuracy: 0.5250\n",
            "Epoch 23/100\n",
            "3/3 [==============================] - 0s 5ms/step - loss: 0.7454 - accuracy: 0.5250\n",
            "Epoch 24/100\n",
            "3/3 [==============================] - 0s 6ms/step - loss: 0.7248 - accuracy: 0.5250\n",
            "Epoch 25/100\n",
            "3/3 [==============================] - 0s 6ms/step - loss: 0.7046 - accuracy: 0.5250\n",
            "Epoch 26/100\n",
            "3/3 [==============================] - 0s 6ms/step - loss: 0.6840 - accuracy: 0.5250\n",
            "Epoch 27/100\n",
            "3/3 [==============================] - 0s 5ms/step - loss: 0.6644 - accuracy: 0.5250\n",
            "Epoch 28/100\n",
            "3/3 [==============================] - 0s 5ms/step - loss: 0.6469 - accuracy: 0.5250\n",
            "Epoch 29/100\n",
            "3/3 [==============================] - 0s 5ms/step - loss: 0.6277 - accuracy: 0.5250\n",
            "Epoch 30/100\n",
            "3/3 [==============================] - 0s 6ms/step - loss: 0.6108 - accuracy: 0.5250\n",
            "Epoch 31/100\n",
            "3/3 [==============================] - 0s 5ms/step - loss: 0.5943 - accuracy: 0.5250\n",
            "Epoch 32/100\n",
            "3/3 [==============================] - 0s 6ms/step - loss: 0.5790 - accuracy: 0.5250\n",
            "Epoch 33/100\n",
            "3/3 [==============================] - 0s 6ms/step - loss: 0.5623 - accuracy: 0.5250\n",
            "Epoch 34/100\n",
            "3/3 [==============================] - 0s 8ms/step - loss: 0.5478 - accuracy: 0.5250\n",
            "Epoch 35/100\n",
            "3/3 [==============================] - 0s 6ms/step - loss: 0.5333 - accuracy: 0.5250\n",
            "Epoch 36/100\n",
            "3/3 [==============================] - 0s 7ms/step - loss: 0.5179 - accuracy: 0.5250\n",
            "Epoch 37/100\n",
            "3/3 [==============================] - 0s 7ms/step - loss: 0.5048 - accuracy: 0.5250\n",
            "Epoch 38/100\n",
            "3/3 [==============================] - 0s 5ms/step - loss: 0.4906 - accuracy: 0.5250\n",
            "Epoch 39/100\n",
            "3/3 [==============================] - 0s 5ms/step - loss: 0.4781 - accuracy: 0.5250\n",
            "Epoch 40/100\n",
            "3/3 [==============================] - 0s 5ms/step - loss: 0.4657 - accuracy: 0.5250\n",
            "Epoch 41/100\n",
            "3/3 [==============================] - 0s 6ms/step - loss: 0.4533 - accuracy: 0.5250\n",
            "Epoch 42/100\n",
            "3/3 [==============================] - 0s 5ms/step - loss: 0.4425 - accuracy: 0.5250\n",
            "Epoch 43/100\n",
            "3/3 [==============================] - 0s 5ms/step - loss: 0.4303 - accuracy: 0.5250\n",
            "Epoch 44/100\n",
            "3/3 [==============================] - 0s 6ms/step - loss: 0.4197 - accuracy: 0.5375\n",
            "Epoch 45/100\n",
            "3/3 [==============================] - 0s 6ms/step - loss: 0.4103 - accuracy: 0.5375\n",
            "Epoch 46/100\n",
            "3/3 [==============================] - 0s 5ms/step - loss: 0.4000 - accuracy: 0.5625\n",
            "Epoch 47/100\n",
            "3/3 [==============================] - 0s 5ms/step - loss: 0.3904 - accuracy: 0.7000\n",
            "Epoch 48/100\n",
            "3/3 [==============================] - 0s 8ms/step - loss: 0.3817 - accuracy: 0.8375\n",
            "Epoch 49/100\n",
            "3/3 [==============================] - 0s 5ms/step - loss: 0.3728 - accuracy: 0.9000\n",
            "Epoch 50/100\n",
            "3/3 [==============================] - 0s 6ms/step - loss: 0.3644 - accuracy: 0.9375\n",
            "Epoch 51/100\n",
            "3/3 [==============================] - 0s 5ms/step - loss: 0.3556 - accuracy: 0.9625\n",
            "Epoch 52/100\n",
            "3/3 [==============================] - 0s 5ms/step - loss: 0.3480 - accuracy: 0.9750\n",
            "Epoch 53/100\n",
            "3/3 [==============================] - 0s 6ms/step - loss: 0.3405 - accuracy: 0.9750\n",
            "Epoch 54/100\n",
            "3/3 [==============================] - 0s 5ms/step - loss: 0.3329 - accuracy: 0.9750\n",
            "Epoch 55/100\n",
            "3/3 [==============================] - 0s 6ms/step - loss: 0.3258 - accuracy: 0.9875\n",
            "Epoch 56/100\n",
            "3/3 [==============================] - 0s 5ms/step - loss: 0.3186 - accuracy: 1.0000\n",
            "Epoch 57/100\n",
            "3/3 [==============================] - 0s 5ms/step - loss: 0.3120 - accuracy: 1.0000\n",
            "Epoch 58/100\n",
            "3/3 [==============================] - 0s 5ms/step - loss: 0.3050 - accuracy: 1.0000\n",
            "Epoch 59/100\n",
            "3/3 [==============================] - 0s 5ms/step - loss: 0.2989 - accuracy: 1.0000\n",
            "Epoch 60/100\n",
            "3/3 [==============================] - 0s 7ms/step - loss: 0.2929 - accuracy: 1.0000\n",
            "Epoch 61/100\n",
            "3/3 [==============================] - 0s 5ms/step - loss: 0.2867 - accuracy: 1.0000\n",
            "Epoch 62/100\n",
            "3/3 [==============================] - 0s 5ms/step - loss: 0.2809 - accuracy: 1.0000\n",
            "Epoch 63/100\n",
            "3/3 [==============================] - 0s 5ms/step - loss: 0.2755 - accuracy: 1.0000\n",
            "Epoch 64/100\n",
            "3/3 [==============================] - 0s 5ms/step - loss: 0.2697 - accuracy: 1.0000\n",
            "Epoch 65/100\n",
            "3/3 [==============================] - 0s 5ms/step - loss: 0.2645 - accuracy: 1.0000\n",
            "Epoch 66/100\n",
            "3/3 [==============================] - 0s 6ms/step - loss: 0.2593 - accuracy: 1.0000\n",
            "Epoch 67/100\n",
            "3/3 [==============================] - 0s 6ms/step - loss: 0.2546 - accuracy: 1.0000\n",
            "Epoch 68/100\n",
            "3/3 [==============================] - 0s 6ms/step - loss: 0.2494 - accuracy: 1.0000\n",
            "Epoch 69/100\n",
            "3/3 [==============================] - 0s 6ms/step - loss: 0.2446 - accuracy: 1.0000\n",
            "Epoch 70/100\n",
            "3/3 [==============================] - 0s 6ms/step - loss: 0.2401 - accuracy: 1.0000\n",
            "Epoch 71/100\n",
            "3/3 [==============================] - 0s 6ms/step - loss: 0.2357 - accuracy: 1.0000\n",
            "Epoch 72/100\n",
            "3/3 [==============================] - 0s 6ms/step - loss: 0.2310 - accuracy: 1.0000\n",
            "Epoch 73/100\n",
            "3/3 [==============================] - 0s 6ms/step - loss: 0.2269 - accuracy: 1.0000\n",
            "Epoch 74/100\n",
            "3/3 [==============================] - 0s 5ms/step - loss: 0.2227 - accuracy: 1.0000\n",
            "Epoch 75/100\n",
            "3/3 [==============================] - 0s 5ms/step - loss: 0.2186 - accuracy: 1.0000\n",
            "Epoch 76/100\n",
            "3/3 [==============================] - 0s 5ms/step - loss: 0.2146 - accuracy: 1.0000\n",
            "Epoch 77/100\n",
            "3/3 [==============================] - 0s 5ms/step - loss: 0.2108 - accuracy: 1.0000\n",
            "Epoch 78/100\n",
            "3/3 [==============================] - 0s 6ms/step - loss: 0.2071 - accuracy: 1.0000\n",
            "Epoch 79/100\n",
            "3/3 [==============================] - 0s 5ms/step - loss: 0.2034 - accuracy: 1.0000\n",
            "Epoch 80/100\n",
            "3/3 [==============================] - 0s 7ms/step - loss: 0.1998 - accuracy: 1.0000\n",
            "Epoch 81/100\n",
            "3/3 [==============================] - 0s 6ms/step - loss: 0.1963 - accuracy: 1.0000\n",
            "Epoch 82/100\n",
            "3/3 [==============================] - 0s 6ms/step - loss: 0.1929 - accuracy: 1.0000\n",
            "Epoch 83/100\n",
            "3/3 [==============================] - 0s 7ms/step - loss: 0.1895 - accuracy: 1.0000\n",
            "Epoch 84/100\n",
            "3/3 [==============================] - 0s 6ms/step - loss: 0.1864 - accuracy: 1.0000\n",
            "Epoch 85/100\n",
            "3/3 [==============================] - 0s 7ms/step - loss: 0.1830 - accuracy: 1.0000\n",
            "Epoch 86/100\n",
            "3/3 [==============================] - 0s 5ms/step - loss: 0.1798 - accuracy: 1.0000\n",
            "Epoch 87/100\n",
            "3/3 [==============================] - 0s 5ms/step - loss: 0.1768 - accuracy: 1.0000\n",
            "Epoch 88/100\n",
            "3/3 [==============================] - 0s 6ms/step - loss: 0.1738 - accuracy: 1.0000\n",
            "Epoch 89/100\n",
            "3/3 [==============================] - 0s 5ms/step - loss: 0.1708 - accuracy: 1.0000\n",
            "Epoch 90/100\n",
            "3/3 [==============================] - 0s 6ms/step - loss: 0.1680 - accuracy: 1.0000\n",
            "Epoch 91/100\n",
            "3/3 [==============================] - 0s 5ms/step - loss: 0.1652 - accuracy: 1.0000\n",
            "Epoch 92/100\n",
            "3/3 [==============================] - 0s 5ms/step - loss: 0.1625 - accuracy: 1.0000\n",
            "Epoch 93/100\n",
            "3/3 [==============================] - 0s 6ms/step - loss: 0.1598 - accuracy: 1.0000\n",
            "Epoch 94/100\n",
            "3/3 [==============================] - 0s 6ms/step - loss: 0.1571 - accuracy: 1.0000\n",
            "Epoch 95/100\n",
            "3/3 [==============================] - 0s 6ms/step - loss: 0.1546 - accuracy: 1.0000\n",
            "Epoch 96/100\n",
            "3/3 [==============================] - 0s 5ms/step - loss: 0.1522 - accuracy: 1.0000\n",
            "Epoch 97/100\n",
            "3/3 [==============================] - 0s 6ms/step - loss: 0.1497 - accuracy: 1.0000\n",
            "Epoch 98/100\n",
            "3/3 [==============================] - 0s 7ms/step - loss: 0.1472 - accuracy: 1.0000\n",
            "Epoch 99/100\n",
            "3/3 [==============================] - 0s 6ms/step - loss: 0.1449 - accuracy: 1.0000\n",
            "Epoch 100/100\n",
            "3/3 [==============================] - 0s 6ms/step - loss: 0.1426 - accuracy: 1.0000\n"
          ]
        }
      ]
    },
    {
      "cell_type": "code",
      "source": [
        "y_pred = model.predict(x_test)"
      ],
      "metadata": {
        "colab": {
          "base_uri": "https://localhost:8080/"
        },
        "id": "SFh88FaY8tPG",
        "outputId": "49890284-796c-478b-b052-597412968abf"
      },
      "execution_count": 14,
      "outputs": [
        {
          "output_type": "stream",
          "name": "stdout",
          "text": [
            "1/1 [==============================] - 0s 160ms/step\n"
          ]
        }
      ]
    },
    {
      "cell_type": "code",
      "source": [
        "y_pred # you get values from 0 to 1. since sigmoid is the activation fn."
      ],
      "metadata": {
        "colab": {
          "base_uri": "https://localhost:8080/"
        },
        "id": "D-jVPWg19tbV",
        "outputId": "28ccd3b9-3dab-4ce6-9fa4-d9843f0a5d0e"
      },
      "execution_count": 15,
      "outputs": [
        {
          "output_type": "execute_result",
          "data": {
            "text/plain": [
              "array([[0.986849  ],\n",
              "       [0.9391243 ],\n",
              "       [0.9865861 ],\n",
              "       [0.18995225],\n",
              "       [0.30888262],\n",
              "       [0.17349021],\n",
              "       [0.19253422],\n",
              "       [0.90197754],\n",
              "       [0.1632698 ],\n",
              "       [0.17295913],\n",
              "       [0.15937647],\n",
              "       [0.207743  ],\n",
              "       [0.9604011 ],\n",
              "       [0.16079855],\n",
              "       [0.9616477 ],\n",
              "       [0.17742364],\n",
              "       [0.95304036],\n",
              "       [0.9776247 ],\n",
              "       [0.18153334],\n",
              "       [0.16790254]], dtype=float32)"
            ]
          },
          "metadata": {},
          "execution_count": 15
        }
      ]
    },
    {
      "cell_type": "code",
      "source": [
        "y_pred[y_pred>0.5] = 1\n",
        "y_pred[y_pred<0.5] = 0"
      ],
      "metadata": {
        "id": "xxdtpyt_94M6"
      },
      "execution_count": 16,
      "outputs": []
    },
    {
      "cell_type": "code",
      "source": [
        "y_pred"
      ],
      "metadata": {
        "colab": {
          "base_uri": "https://localhost:8080/"
        },
        "id": "QRzDNkYg-DKv",
        "outputId": "5dbce6cb-accf-496f-ef48-487fd3a35569"
      },
      "execution_count": 17,
      "outputs": [
        {
          "output_type": "execute_result",
          "data": {
            "text/plain": [
              "array([[1.],\n",
              "       [1.],\n",
              "       [1.],\n",
              "       [0.],\n",
              "       [0.],\n",
              "       [0.],\n",
              "       [0.],\n",
              "       [1.],\n",
              "       [0.],\n",
              "       [0.],\n",
              "       [0.],\n",
              "       [0.],\n",
              "       [1.],\n",
              "       [0.],\n",
              "       [1.],\n",
              "       [0.],\n",
              "       [1.],\n",
              "       [1.],\n",
              "       [0.],\n",
              "       [0.]], dtype=float32)"
            ]
          },
          "metadata": {},
          "execution_count": 17
        }
      ]
    },
    {
      "cell_type": "markdown",
      "source": [
        "Checking test data accuracy"
      ],
      "metadata": {
        "id": "TVt8Ln2H-HSL"
      }
    },
    {
      "cell_type": "code",
      "source": [
        "from sklearn.metrics import accuracy_score\n",
        "accuracy_score(y_pred, y_test)"
      ],
      "metadata": {
        "colab": {
          "base_uri": "https://localhost:8080/"
        },
        "id": "Y0aJMExE-EIW",
        "outputId": "fe4c1eda-b1e3-4c00-9040-f7fc38a39994"
      },
      "execution_count": 19,
      "outputs": [
        {
          "output_type": "execute_result",
          "data": {
            "text/plain": [
              "1.0"
            ]
          },
          "metadata": {},
          "execution_count": 19
        }
      ]
    },
    {
      "cell_type": "markdown",
      "source": [
        "Give an input sample and make prediction"
      ],
      "metadata": {
        "id": "r5vsN0Qf_EB8"
      }
    },
    {
      "cell_type": "code",
      "source": [
        "model.predict([[6.6,2.9,1.3,0.2]]) #values for the 4 cols of data - SepalLengthCm...PetalWidthCm"
      ],
      "metadata": {
        "colab": {
          "base_uri": "https://localhost:8080/"
        },
        "id": "8LilsExL-WOL",
        "outputId": "aa6b7971-6e78-4746-d1b7-507670420eab"
      },
      "execution_count": 24,
      "outputs": [
        {
          "output_type": "stream",
          "name": "stdout",
          "text": [
            "1/1 [==============================] - 0s 134ms/step\n"
          ]
        },
        {
          "output_type": "execute_result",
          "data": {
            "text/plain": [
              "array([[0.11860316]], dtype=float32)"
            ]
          },
          "metadata": {},
          "execution_count": 24
        }
      ]
    },
    {
      "cell_type": "code",
      "source": [
        "import matplotlib.pyplot as plt\n",
        "plt.plot(history.history['accuracy'])\n",
        "plt.title(\"model accuracy\")\n",
        "plt.xlabel(\"Epoch\")\n",
        "plt.ylabel(\"Accuracy\")"
      ],
      "metadata": {
        "colab": {
          "base_uri": "https://localhost:8080/",
          "height": 489
        },
        "id": "OrVg9Uzd_NZN",
        "outputId": "b4452001-7005-469e-d375-c7290c4dd512"
      },
      "execution_count": 27,
      "outputs": [
        {
          "output_type": "execute_result",
          "data": {
            "text/plain": [
              "Text(0, 0.5, 'Accuracy')"
            ]
          },
          "metadata": {},
          "execution_count": 27
        },
        {
          "output_type": "display_data",
          "data": {
            "text/plain": [
              "<Figure size 640x480 with 1 Axes>"
            ],
            "image/png": "[encoded data removed]"
          },
          "metadata": {}
        }
      ]
    },
    {
      "cell_type": "markdown",
      "source": [
        "We recieved accuracy at 50th epoch approx."
      ],
      "metadata": {
        "id": "eWB0zLvs_veK"
      }
    }
  ]
}